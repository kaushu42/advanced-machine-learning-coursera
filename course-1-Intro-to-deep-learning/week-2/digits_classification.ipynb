{
 "cells": [
  {
   "cell_type": "markdown",
   "metadata": {
    "slideshow": {
     "slide_type": "slide"
    }
   },
   "source": [
    "# MNIST digits classification with TensorFlow"
   ]
  },
  {
   "cell_type": "markdown",
   "metadata": {},
   "source": [
    "<img src=\"images/mnist_sample.png\" style=\"width:30%\">"
   ]
  },
  {
   "cell_type": "code",
   "execution_count": 9,
   "metadata": {},
   "outputs": [
    {
     "name": "stdout",
     "output_type": "stream",
     "text": [
      "We're using TF 1.2.1\n"
     ]
    }
   ],
   "source": [
    "import numpy as np\n",
    "from sklearn.metrics import accuracy_score\n",
    "from matplotlib import pyplot as plt\n",
    "%matplotlib inline\n",
    "import tensorflow as tf\n",
    "print(\"We're using TF\", tf.__version__)\n",
    "\n",
    "import sys\n",
    "sys.path.append(\"../..\")\n",
    "import grading\n",
    "\n",
    "import matplotlib_utils\n",
    "from importlib import reload\n",
    "reload(matplotlib_utils)\n",
    "\n",
    "import grading_utils\n",
    "reload(grading_utils)\n",
    "\n",
    "import keras_utils\n",
    "from keras_utils import reset_tf_session"
   ]
  },
  {
   "cell_type": "markdown",
   "metadata": {},
   "source": [
    "# Fill in your Coursera token and email\n",
    "To successfully submit your answers to our grader, please fill in your Coursera submission token and email"
   ]
  },
  {
   "cell_type": "code",
   "execution_count": 10,
   "metadata": {
    "collapsed": true
   },
   "outputs": [],
   "source": [
    "grader = grading.Grader(assignment_key=\"XtD7ho3TEeiHQBLWejjYAA\", \n",
    "                        all_parts=[\"9XaAS\", \"vmogZ\", \"RMv95\", \"i8bgs\", \"rE763\"])"
   ]
  },
  {
   "cell_type": "code",
   "execution_count": 49,
   "metadata": {
    "collapsed": true
   },
   "outputs": [],
   "source": [
    "# token expires every 30 min\n",
    "COURSERA_TOKEN = \"JybZpF05LNsjxrP9\"\n",
    "COURSERA_EMAIL = \"kaushu42@gmail.com\""
   ]
  },
  {
   "cell_type": "markdown",
   "metadata": {},
   "source": [
    "# Look at the data\n",
    "\n",
    "In this task we have 50000 28x28 images of digits from 0 to 9.\n",
    "We will train a classifier on this data."
   ]
  },
  {
   "cell_type": "code",
   "execution_count": 13,
   "metadata": {},
   "outputs": [
    {
     "name": "stdout",
     "output_type": "stream",
     "text": [
      "Downloading data from https://s3.amazonaws.com/img-datasets/mnist.npz\n",
      "10723328/11490434 [==========================>...] - ETA: 0s"
     ]
    }
   ],
   "source": [
    "import preprocessed_mnist\n",
    "X_train, y_train, X_val, y_val, X_test, y_test = preprocessed_mnist.load_dataset()"
   ]
  },
  {
   "cell_type": "code",
   "execution_count": 14,
   "metadata": {},
   "outputs": [
    {
     "name": "stdout",
     "output_type": "stream",
     "text": [
      "X_train [shape (50000, 28, 28)] sample patch:\n",
      " [[ 0.          0.29803922  0.96470588  0.98823529  0.43921569]\n",
      " [ 0.          0.33333333  0.98823529  0.90196078  0.09803922]\n",
      " [ 0.          0.33333333  0.98823529  0.8745098   0.        ]\n",
      " [ 0.          0.33333333  0.98823529  0.56862745  0.        ]\n",
      " [ 0.          0.3372549   0.99215686  0.88235294  0.        ]]\n",
      "A closeup of a sample patch:\n"
     ]
    },
    {
     "data": {
      "image/png": "[encoded data removed]",
      "text/plain": [
       "<matplotlib.figure.Figure at 0x7f2b2464a320>"
      ]
     },
     "metadata": {},
     "output_type": "display_data"
    },
    {
     "name": "stdout",
     "output_type": "stream",
     "text": [
      "And the whole sample:\n"
     ]
    },
    {
     "data": {
      "image/png": "[encoded data removed]",
      "text/plain": [
       "<matplotlib.figure.Figure at 0x7f2b0819b6a0>"
      ]
     },
     "metadata": {},
     "output_type": "display_data"
    },
    {
     "name": "stdout",
     "output_type": "stream",
     "text": [
      "y_train [shape (50000,)] 10 samples:\n",
      " [5 0 4 1 9 2 1 3 1 4]\n"
     ]
    }
   ],
   "source": [
    "# X contains rgb values divided by 255\n",
    "print(\"X_train [shape %s] sample patch:\\n\" % (str(X_train.shape)), X_train[1, 15:20, 5:10])\n",
    "print(\"A closeup of a sample patch:\")\n",
    "plt.imshow(X_train[1, 15:20, 5:10], cmap=\"Greys\")\n",
    "plt.show()\n",
    "print(\"And the whole sample:\")\n",
    "plt.imshow(X_train[1], cmap=\"Greys\")\n",
    "plt.show()\n",
    "print(\"y_train [shape %s] 10 samples:\\n\" % (str(y_train.shape)), y_train[:10])"
   ]
  },
  {
   "cell_type": "markdown",
   "metadata": {},
   "source": [
    "# Linear model\n",
    "\n",
    "Your task is to train a linear classifier $\\vec{x} \\rightarrow y$ with SGD using TensorFlow.\n",
    "\n",
    "You will need to calculate a logit (a linear transformation) $z_k$ for each class: \n",
    "$$z_k = \\vec{x} \\cdot \\vec{w_k} + b_k \\quad k = 0..9$$\n",
    "\n",
    "And transform logits $z_k$ to valid probabilities $p_k$ with softmax: \n",
    "$$p_k = \\frac{e^{z_k}}{\\sum_{i=0}^{9}{e^{z_i}}} \\quad k = 0..9$$\n",
    "\n",
    "We will use a cross-entropy loss to train our multi-class classifier:\n",
    "$$\\text{cross-entropy}(y, p) = -\\sum_{k=0}^{9}{\\log(p_k)[y = k]}$$ \n",
    "\n",
    "where \n",
    "$$\n",
    "[x]=\\begin{cases}\n",
    "       1, \\quad \\text{if $x$ is true} \\\\\n",
    "       0, \\quad \\text{otherwise}\n",
    "    \\end{cases}\n",
    "$$\n",
    "\n",
    "Cross-entropy minimization pushes $p_k$ close to 1 when $y = k$, which is what we want.\n",
    "\n",
    "Here's the plan:\n",
    "* Flatten the images (28x28 -> 784) with `X_train.reshape((X_train.shape[0], -1))` to simplify our linear model implementation\n",
    "* Use a matrix placeholder for flattened `X_train`\n",
    "* Convert `y_train` to one-hot encoded vectors that are needed for cross-entropy\n",
    "* Use a shared variable `W` for all weights (a column $\\vec{w_k}$ per class) and `b` for all biases.\n",
    "* Aim for ~0.93 validation accuracy"
   ]
  },
  {
   "cell_type": "code",
   "execution_count": 15,
   "metadata": {},
   "outputs": [
    {
     "name": "stdout",
     "output_type": "stream",
     "text": [
      "(50000, 784)\n",
      "(10000, 784)\n"
     ]
    }
   ],
   "source": [
    "X_train_flat = X_train.reshape((X_train.shape[0], -1))\n",
    "print(X_train_flat.shape)\n",
    "\n",
    "X_val_flat = X_val.reshape((X_val.shape[0], -1))\n",
    "print(X_val_flat.shape)"
   ]
  },
  {
   "cell_type": "code",
   "execution_count": 16,
   "metadata": {},
   "outputs": [
    {
     "name": "stdout",
     "output_type": "stream",
     "text": [
      "(50000, 10)\n",
      "[[ 0.  0.  0.  0.  0.  1.  0.  0.  0.  0.]\n",
      " [ 1.  0.  0.  0.  0.  0.  0.  0.  0.  0.]\n",
      " [ 0.  0.  0.  0.  1.  0.  0.  0.  0.  0.]] [5 0 4]\n"
     ]
    }
   ],
   "source": [
    "import keras\n",
    "\n",
    "y_train_oh = keras.utils.to_categorical(y_train, 10)\n",
    "y_val_oh = keras.utils.to_categorical(y_val, 10)\n",
    "\n",
    "print(y_train_oh.shape)\n",
    "print(y_train_oh[:3], y_train[:3])"
   ]
  },
  {
   "cell_type": "code",
   "execution_count": 17,
   "metadata": {
    "collapsed": true
   },
   "outputs": [],
   "source": [
    "# run this again if you remake your graph\n",
    "s = reset_tf_session()"
   ]
  },
  {
   "cell_type": "code",
   "execution_count": 18,
   "metadata": {
    "collapsed": true
   },
   "outputs": [],
   "source": [
    "# Model parameters: W and b\n",
    "W = tf.Variable(dtype=tf.float32, initial_value=tf.random_normal((784, 10)))### YOUR CODE HERE ### tf.get_variable(...) with shape[0] = 784\n",
    "b = tf.Variable(dtype=tf.float32, initial_value=tf.random_normal((10,)))### YOUR CODE HERE ### tf.get_variable(...)"
   ]
  },
  {
   "cell_type": "code",
   "execution_count": 19,
   "metadata": {
    "collapsed": true
   },
   "outputs": [],
   "source": [
    "# Placeholders for the input data\n",
    "input_X = tf.placeholder(shape=(None, 784), dtype=tf.float32)### YOUR CODE HERE ### tf.placeholder(...) for flat X with shape[0] = None for any batch size\n",
    "input_y = tf.placeholder(shape=(None, 10), dtype=tf.float32)### YOUR CODE HERE ### tf.placeholder(...) for one-hot encoded true labels"
   ]
  },
  {
   "cell_type": "code",
   "execution_count": 40,
   "metadata": {},
   "outputs": [],
   "source": [
    "# Compute predictions\n",
    "logits = tf.matmul(input_X, W) + b\n",
    "probas = tf.nn.softmax(logits)\n",
    "classes = tf.argmax(probas, axis=-1)\n",
    "\n",
    "# Loss should be a scalar number: average loss over all the objects with tf.reduce_mean().\n",
    "# Use tf.nn.softmax_cross_entropy_with_logits on top of one-hot encoded input_y and logits.\n",
    "# It is identical to calculating cross-entropy on top of probas, but is more numerically friendly (read the docs).\n",
    "loss = tf.reduce_mean(tf.nn.softmax_cross_entropy_with_logits(labels=input_y, logits=logits))\n",
    "\n",
    "# Use a default tf.train.AdamOptimizer to get an SGD step\n",
    "step = tf.train.AdamOptimizer().minimize(loss)"
   ]
  },
  {
   "cell_type": "code",
   "execution_count": 64,
   "metadata": {},
   "outputs": [
    {
     "data": {
      "text/html": [
       "<img src=\"data:image/jpeg;base64,/9j/4AAQSkZJRgABAQAAAQABAAD/2wBDAAIBAQEBAQIBAQECAgICAgQDAgICAgUEBAMEBgUGBgYFBgYGBwkIBgcJBwYGCAsICQoKCgoKBggLDAsKDAkKCgr/2wBDAQICAgICAgUDAwUKBwYHCgoKCgoKCgoKCgoKCgoKCgoKCgoKCgoKCgoKCgoKCgoKCgoKCgoKCgoKCgoKCgoKCgr/wAARCAEgA2ADASIAAhEBAxEB/8QAHwAAAQUBAQEBAQEAAAAAAAAAAAECAwQFBgcICQoL/8QAtRAAAgEDAwIEAwUFBAQAAAF9AQIDAAQRBRIhMUEGE1FhByJxFDKBkaEII0KxwRVS0fAkM2JyggkKFhcYGRolJicoKSo0NTY3ODk6Q0RFRkdISUpTVFVWV1hZWmNkZWZnaGlqc3R1dnd4eXqDhIWGh4iJipKTlJWWl5iZmqKjpKWmp6ipqrKztLW2t7i5usLDxMXGx8jJytLT1NXW19jZ2uHi4%2BTl5ufo6erx8vP09fb3%2BPn6/8QAHwEAAwEBAQEBAQEBAQAAAAAAAAECAwQFBgcICQoL/8QAtREAAgECBAQDBAcFBAQAAQJ3AAECAxEEBSExBhJBUQdhcRMiMoEIFEKRobHBCSMzUvAVYnLRChYkNOEl8RcYGRomJygpKjU2Nzg5OkNERUZHSElKU1RVVldYWVpjZGVmZ2hpanN0dXZ3eHl6goOEhYaHiImKkpOUlZaXmJmaoqOkpaanqKmqsrO0tba3uLm6wsPExcbHyMnK0tPU1dbX2Nna4uPk5ebn6Onq8vP09fb3%2BPn6/9oADAMBAAIRAxEAPwD9/KKKKACiiigAooooAKKKKACiiigAooooAKKKKACiiigAooooAKKKKACiiigAooooAKKKKACiiigAooooAKKKKACiiigAooooAKKKKACiiigAooooAKKKKACiiigAooooAKKKKACiiigAooooAKKKKACiiigAooooAKKKKACiiigAooooAKKKKACiiigAooooAKKKKACiiigAooooAKKKKACiiigAooooAKKKKACiiigAooooAKKKKACiiigAooooAKKKKACiiigAooooAKKKKACiiigAooooAKKKKACiiigAooooAKKKKACiiigAooooAKKKKACiiigAooooAKKKKACiiigAooooAKKKKACvPfjt%2B1J8FP2b5NGsfil4g1Maj4ilnTQNB8OeF9R1zVNR8lVed4bHTbee5kjiVkMkixlI96biu5c%2BhV4N%2B0P8D/j5/wANJ%2BDv2tv2bLLwfrWueH/B2seFNX8KeOdcutLtLywv7mwuxcQXtraXj288U2noCpt3WVJSCUKK1ABpf/BTL9izWLvxPb2nxXv0h8FWsk/jLUrvwXrEFjoIS0iu9l5dy2iwWsrQzRskMjrJIWKorMrKL2n/APBQ/wDZK1HwBrXxFTx/q9vB4f1ay0vVdE1DwNrNrrkV5ebfscC6PNaLqEr3AYGER27eaAxTcFYjy2b9gH4y%2BMf2a/jn8NfGHinwppHin4o/FS38daHc6U1xeWFpeW0OiywQ3IkihkkiN3pRRwoyYHGDuJVaPi79i/8AaV%2BLmr/Ef45fG34S/CjWvFnjWx8KaPp/gKy%2BI2s2Wm6fY6Hcaldw3qa7b6al5DqDXOqTOksVoPJSKNFZiWcgHsviH9vv9mzwv4a8OeI9XvvG3meK0v5NE8P2vwm8SXGuSRWUscV3NJpMWntf28MLzQq8s0CIpmiy37xM%2Bmaz8RPBHhv4e3XxX8T%2BJbbSvDljo76rf6vqrfZYbSySIzPPMZdvlKsYLNvxtAOcYNfGHin9hH9s/WPgX4X8Nay3hfxV470a58RHRfGV/wDHbxNpGr%2BCLW%2BuUktLO11q1sJLzXIYkjhEy3qw/aTbReYCFGPUfjR/wTotfj1%2Bzb4n%2BHHxD%2BOfjW78d%2BMPhfH4Z17xS3jbWho818tpDE2oJoS3y2FuzzQLK3kRRSEPIBIrSM5AOkg/4KUfsZf8K58V/FbWPite6Jo3giysr7xQ/ifwdq%2Bk3NlZXkxhtb37LeWsVxJaSyK6pcxxtC3luQ%2BEYjj/AI3f8FZP2d/hn8ENU%2BMfgPRfFXiqbQfiD4X8L674Y/4QXXbHU7A6zqVrax3T2cmnNdeV5Fw88DeT5d48aW8MhknjB8r1T/gmJ8ZPHfwq8faR4i8DeG9G8Y%2BI9D0fR7DxDqv7RfjPxut3aWusW%2BoTRyf27AfsEZ8likUSzHe%2BGkxknv8A9qH9gz40/GD4g/F/4g%2BBfEPheOTxfB8LbzwlZ6tfXMSvf%2BE/EdzrUsN40dvJ5ENwGt4VljEzrl2MfyKrgHqFh/wUE/Zb1H4m2XwZh8T%2BJo/Fd5oun6xLoF38N9egudO0%2B9adILu/SSyU6dDut5VeS68pYiFEhQum6j4a/wCCmH7FPi3wZ4s%2BIWkfGC4TR/Bfgi68Zaxe6h4S1W0Fx4et0Z5tWsVntUbVLNVQ4nsxPGxZArEugbB0P9kP4ofEP4mfG74g/G9fD2gxfGj4O%2BHfCF1Y%2BE9duNRl0u4tE11Ltlnns7XzYwNViMT7FZikm6OPA3fN37Y37Kn7UOj/ALDHxS%2BJv7TF34AtIfhD%2BxT8QfBHhePwFqF5cNrzXukWxn1G6W5toBYqE0i3CWcbXAVppCZ22oKAPrPw9/wUl/Yy8TaHrHiPT/i1dQWehppU1/JqnhLVbJmtNSu1s7HUIUuLVGubCWdgovoQ9qoDO0qorMPT9E%2BLvw88R/FLX/gvofiH7T4k8LaXp%2Boa/YR2k22zgvmuBa7pinlF3%2ByzHy1cyKoRmVVkjLfJOofsz%2BIPFegeKfjb/wAFIvF/wz8J%2BBbf9nu5%2BHUlx4f8QTLay6beyQyXmq3k17BbpYOTBbCG2QzCAmT/AEiQsuOw/wCCPngP4u2f7I9r8f8A9pDUDf8AxJ%2BL15H4n8V6g9nJbtJCLSCy01fKl%2BeH/iX2lpI0TYKSzTZAYtkA%2BqqKKKACiiigAooooAKKKKACiiigAooooAKKKKACiiigAooooAKKKKACiiigAooooAKKKKACiiigAooooAKKKKACiiigAooooAK8R0j/AIKMfse6ld69Z6n8Urzw83hzw5c%2BINQk8a%2BEdV0GObSbd0jnv7WTUrWBb63R5IlaW2MqAyxjOXXPtN7FczWcsNndCCZ4mWKYx7/LYjhtp64POO9fmJq//BHL9uX4v6t4X1z43fHHQ31vw14P1Cz1DxRqHxW8TeJx4h1v7ZpV9a6idLvoobLSbaS50xfPsLIBRHJtWWQKgUA%2B2X/b/wD2YbX4aN8WNY8QeKtK0ttcg0axs9c%2BGWv2GqanfzIZIYLLTbixS9v2kQM6/Z4ZAyo7AkIxHReA/wBqz4H/ABH1%2By8J%2BHPEOqQ6vf8AhSfxJDpGteFdS0y7TTYbv7JLLLDeW8UkDrP8hhkVZe%2BzbzXk3xO%2BDn7bvxib4e/G3XPBvwq0P4h/Cjx1NrHh/wAM2vjjUr/Rdcs7jSbvTLmO4vn0qGaxmKXskkbpa3AjMQU%2BYJGxV%2BJPwG/bg1/4y%2BHf2mvA%2BjfCu08WX3ww1XwX4x0LUvFepSWGkLcX8N1a39lcJpwk1AxCN1kt5YrQSlxiWLHIB3Gk/wDBRv8AZA8R694F8LeFfiNqus6n8SfBuleLfBunaJ4H1m9nvND1F9lrqMiQWjNa2%2B7HmSTiNbcMpm8oMCdj4a/tufs3fFf4jXPwn8M%2BL9Ws9ft9LudThsvE/gzVtEW/sbeRI57uyl1G1gjv4I3liDy2zSIvmISQGUnyj9hT9hL4sfsw6/8ADjWfHniDw1dnwd%2Byl4R%2BGN%2B%2BkXM8rNq2lvM1zNF5kEe61bemxmKu235o0wK8a%2BGn/BKv9sbxP8UfC/ib9qb4w2eqRaf4A8V%2BF/GniaD4v%2BJNavPEUur2KW39p2umX0Men6EcqWNpaKUXKgTOI1WgD6l8J/8ABRf9kfxrosfirQfHeuf2Hcarpen6f4lvfh/rdrpWoy6lex2VlJaX09mlteQS3M0UYuIJHhBlQs4VgT6X4W%2BLvw88a/EDxT8LvC/iH7XrnguSzj8T2iWkwWxkuoPtEEZlZBG7tCVkKIzMiyRlgokTd8w%2BOPAnxF8K/wDBPbxp8CP%2BChnif4VeCPAWg/DSLQLb4meHfFt2GadI0trXUntLqzgTTZlmFvJDBHcXTGcoiOTtDdr/AMEr/h98WPDf7ImlfFX9oqwS3%2BJ3xYvpfHXxEhW3aL7Pf36xmG02N8yfZbGOys9pyQLXBoA%2BjaKKKACiiigAooooAKKKKACiiigAooooAKKKKACiiigAooooAKKKKACiiigAooooAKKKKACiiigAooooAKKKKACiiigAooooA8//AGq/jVc/s5/s3%2BNvjjp%2Bgpqt54Y8OXV9p%2BmSzGKO7ulQ%2BRC7gEojSlFZwCVUk4OMVw/wh%2BPnxztZPiz8NfjTb%2BFNe8Y/DOytdQtL/wAL2cui6drFrd2DXECtHeXVybR1nhuYXZpnTYiS/JvMaerfFz4WeDfjh8LPEXwb%2BIdhJdaF4p0W50rVoIZmika3niaN9jrho3AYlXUgqwBBBArznwZ%2BxN4S8P8Ah7xboHjX4t%2BM/Gz/ABBhnt/H2oeKZNOFxr9s9gthHbSmzsrdYIoYFOxbZYSXkkeQyNIxIBwP/BOH9tP4s/tXan4l0j4nw6Q40rwp4b1qzubLwJqnhmdJNTW9M1qbLVLiaa6t4vssflapERa3ZllWIE28hrd%2BKH7TfjTx1%2B1toX7Jf7J/7QPwpt9Zt/B/iHWvHkGtaNJ4ivNKlsrvRbe2t5Laz1WyezMg1K4YmbcW8hQoGGNdj%2Bzz%2ByVoPwA8Sal43uvi34y8ca7qPh/TdBTWfGlxYtNaaVYNcPbWcS2VpbR7Ve6ndpXR5pC43yMEQLz3xM8S22lf8FL/AINeH7nAOq/Bj4hrAc8mSPVPB77f%2B%2BA5/wCA0nJRV2XTpzqy5YK7s38krv8ABGn/AMIP/wAFC/8Ao6D4M/8Ahh9W/wDmoo/4Qf8A4KF/9HQfBn/ww%2Brf/NRXs1FMg8Z/4Qf/AIKF/wDR0HwZ/wDDD6t/81FH/CD/APBQv/o6D4M/%2BGH1b/5qK9mooA8Z/wCEH/4KF/8AR0HwZ/8ADD6t/wDNRR/wg/8AwUL/AOjoPgz/AOGH1b/5qK9mooA8Z/4Qf/goX/0dB8Gf/DD6t/8ANRR/wg//AAUL/wCjoPgz/wCGH1b/AOaivZqKAPGf%2BEH/AOChf/R0HwZ/8MPq3/zUUf8ACD/8FC/%2BjoPgz/4YfVv/AJqK9mooA8Z/4Qf/AIKF/wDR0HwZ/wDDD6t/81FH/CD/APBQv/o6D4M/%2BGH1b/5qK9mooA8Z/wCEH/4KF/8AR0HwZ/8ADD6t/wDNRR/wg/8AwUL/AOjoPgz/AOGH1b/5qK9mooA8Z/4Qf/goX/0dB8Gf/DD6t/8ANRR/wg//AAUL/wCjoPgz/wCGH1b/AOairWv/ABv/AGRPhTaaRpPx0%2BMPw58Oa5qGiwagbbxd4hsLS7uI5Mjz9tw6uyM6SAN0yjDPBAzf%2BGv/APgnB/0dF8Ef/C20f/47XNPGYOnJxnVimujlFP7nJM9rD8N8SYuhGtQwNecJK6lGjWlFrupRoyi1o9U2tNyx/wAIP/wUL/6Og%2BDP/hh9W/8Amoo/4Qf/AIKF/wDR0HwZ/wDDD6t/81FV/wDhr/8A4Jwf9HRfBH/wttH/APjtenaBovws8V6FZeKfC2k%2BH9S0zUrSO607UdPggmguoJFDxyxyICroykMrKSCCCDg1dLE4eu2qc4yt2kn%2BTZz47Js5yuEZ43C1aSk7J1KdSmm97JzpwTdtbJt21tbU85/4Qf8A4KF/9HQfBn/ww%2Brf/NRR/wAIP/wUL/6Og%2BDP/hh9W/8Amorzz4ff8FGv2L/F/gez8YeIfh74n0GfVPHGteFtE0a5%2BD2tz3mrXunXF/HItpFDp7PdEw6fPOyxK5hAMcmyRWUdl8Qv2qP2WvAtl49tLzRItP1jwF4Q1rxDeW3izwJq2k2d3Z6Yv%2Blz291Jpzi9t4maISS2SXRUTRsEfeivseaaP/CD/wDBQv8A6Og%2BDP8A4YfVv/moo/4Qf/goX/0dB8Gf/DD6t/8ANRVWw/as/Yw1D4zyfs/Q3lv/AMJRb%2BII9Buo/wDhBr8WEOqvp0epR2Lag1oLRZ3tJUmSMyhnBwoLAqNn41/FX4K/CT9nnXf2h9H8I6N4o07S7BpNNt9DW2kGq3TSiCC1imAKBpLhkh3E7VZiW6GgCh/wg/8AwUL/AOjoPgz/AOGH1b/5qKP%2BEH/4KF/9HQfBn/ww%2Brf/ADUU/wDZw%2BIFt8XLzxl4H%2BKPwK8N%2BFfGHgPxBDpmv6Vo%2BorqtjIs9jbXtvc211JaWzyxvFcqp3wRsssUq4ZQrv5x8Cv22vh58RfsPin4t/Arw34H8HeKvhfffEfwB4nfWI7z7f4Ys5bUXF1fRG0iGnyrDqGnz%2BUr3C7LrHmBo2WgD0T/AIQf/goX/wBHQfBn/wAMPq3/AM1FH/CD/wDBQv8A6Og%2BDP8A4YfVv/morgfhN%2B0x42%2BOP7Puv/Gnwd%2ByJ4J8PX/hvxnqemavoPxF8ZPpa2em2iGT7ZPPb6VdGK42NEZLUxlYiZB57%2BWC%2BVfftcfEvRf2R/CP7Z3iH9iDwdY%2BGNU8F6f4j8W6XP45K6ppkd26mO1soDpQW/ufKkibypXtC0kghXLc0Aep/wDCD/8ABQv/AKOg%2BDP/AIYfVv8A5qKP%2BEH/AOChf/R0HwZ/8MPq3/zUVwcf7YfgyP8AaFX4Z6t8BvDFl4Rn%2BKb/AA5tPE0%2Buxf2nJ4gXSjqQB0z7JhbV0UxrL9pMpZkfyBE3mjjvhB/wUV8H/En9lnxX%2B1LffBX4USWmgpZxWvhvwh8TYtX1G3vLq8%2ByQ2%2Brq2m26aT87Rs7lptieaxBEfzAHtv/CD/APBQv/o6D4M/%2BGH1b/5qKP8AhB/%2BChf/AEdB8Gf/AAw%2Brf8AzUV5lbftkT6rqUvwX8Pfsw%2BBr74vWvxNk8F3/hWLxn/xJLaePQk117ttUGmGbyBZSxLj7F5n2mQRbNoMwx9I/wCChXgjxl8S/hh8OfCnwZ%2BF2jz/ABC8IprE0XxG%2BIsWiXcF2NQawudLsoI9OuRqV1FLHKNqvGHKDBAbcAD2X/hB/wDgoX/0dB8Gf/DD6t/81FH/AAg//BQv/o6D4M/%2BGH1b/wCaiuV8G/tS/Dv4j/teax%2BzN4K8DfDA2vhvUpdP1iXV/HEFt4huZ4rNbiWWw0VbORrq1jkljged54cOk%2B1GEQMnGXP/AAUM%2BGslz8XrzRP2atPutF%2BH0fhn/hENcl1GCGHxY2s6reaRFOc25FjZpfWUg%2B1EzB7f/SVXYVDgHrv/AAg//BQv/o6D4M/%2BGH1b/wCaij/hB/8AgoX/ANHQfBn/AMMPq3/zUV5B4s/4KE/DTwH4S1HSfG3wn%2BGej%2BPtH%2BKEngXWNO1bx/Ba%2BGrC%2Bj0eLWmuZtalsVZLYWNxACxtPM%2B0yrb%2BXnLjb8c/tk%2BDfC/xJ8FfBLTfh/8ABn/hK/EXhbS9d1ca/wDFKDTtMWHUJ5oLSDSbo6dJJrE872t4YlEECslvuZozIikA9E/4Qf8A4KF/9HQfBn/ww%2Brf/NRR/wAIP/wUL/6Og%2BDP/hh9W/8AmorC8ZfG6/8AhR8ffD/w3%2BL37OPg7TfCfi/UNVtPDXibSvEovdQH2HTrjUJLi9082Ea21uYbWVfMjuJysjwIyqZht5j4J/tTeNfjVp502y/Y08J6V4k8QfD/AEzxt8OdI1Hxivkaro95cCIi/uE00tp91ArQvNDHHdoBOixyyndtAPRP%2BEH/AOChf/R0HwZ/8MPq3/zUVQ8D%2BOP2rPB37Vnhz4I/G74j/D3xNo3ib4e%2BIdchm8K/Dy%2B0W6tLrTb7RLdFZ7jV75JY3TVJSVCIwaJCGxkGb4FfFDTvjZ8KfGHiDVvhJo/hfxJ4M8RatoGrQ6Jfrf2iX9lgmW0vfIgeaP5lBLRRMkiyRsgMZzZ8cf8AKQv4X/8AZGfHn/p28IUAezUUUUAFFFFABRRRQAV84/CbxV%2B3f8ddH17x34X%2BN/wk0DS7f4heKtD0vSr/AOD%2BqX9xFa6Xr1/pkLS3CeIoFlkeOzV2ZYo13OQFAAr6OrwT9kIeZ%2BzrrduxOyb46ePIpQDjcj%2BPtWVl%2BhUkH2NAGr/wg/8AwUL/AOjoPgz/AOGH1b/5qKP%2BEH/4KF/9HQfBn/ww%2Brf/ADUU/X/2oP8Agn74U1298LeKf2iPg5pup6bdyWuo6dqHi7SoZ7WeNikkUkbyhkdWBVlYAgggjIqp/wANf/8ABOD/AKOi%2BCP/AIW2j/8Ax2uV47Ap2dWH/gcf/kj3ocK8U1IKcMvxDTSaaoV2mnqmmqDTTTTTTaaaabTTLH/CD/8ABQv/AKOg%2BDP/AIYfVv8A5qKP%2BEH/AOChf/R0HwZ/8MPq3/zUU/QP2oP%2BCfvivXbLwt4W/aI%2BDmpanqV3Ha6dp2n%2BLdKmnup5GCRxRxpKWd2YhVVQSSQAMmr37VfxL%2BFX7KH7N/jX9pLxT8Ll1bT/AAV4euNVutN0jRBNcXKxLnYixxsRk4y5G1Fy7lVVmGtKvQrpunNSt2af5Nnn47K8zyucYY3D1KTkrpVITptra6U4QbV9LpNX0vfQzv8AhB/%2BChf/AEdB8Gf/AAw%2Brf8AzUUf8IP/AMFC/wDo6D4M/wDhh9W/%2BaiqGk/tZ/sf6543l%2BGul%2BGtfl8Q23hxde1DRf8AhTWurdafYPHdvFLdRtp4a1aX7DcrFHMEkmeMRxq7uis7TP2nP2YPE0nh3/hFdMsEOs%2BOpvCt7YeJfCWo6PqNjfR6NdauYWsrmwEySm1t1mVbhbeN4ZPMWVmMUc2pwl3/AIQf/goX/wBHQfBn/wAMPq3/AM1FH/CD/wDBQv8A6Og%2BDP8A4YfVv/moqh8FP2v/ANhf9oLRpvEfw28TaX/Z0Xh/T9dS/wDEXhG70WC50u%2BZltb2CTUbaBbm3kdSgliLqHwhIYgVd/aN%2BIjfCvX/AAf8NPhB8APDXi7xn42vbxNK0vWtVXSLGC1s7Vri5uZ7pLO6dAP3MSqsLlpLiPOxA7qAO/4Qf/goX/0dB8Gf/DD6t/8ANRR/wg//AAUL/wCjoPgz/wCGH1b/AOaiuf179qP4U237E%2BgftkeGvgtZ3Ufii20BNJ8PakILQwX2rX1pYQW93cBJFt44rm7RZ5gsgjSORwrhQD5n8Qv%2BCjHgX4a%2BB5Lnxd8GfhdofiLR/ife%2BB/GN34o%2BIqaf4S0LULfS01QebrjaazZlt5rZY0e0jYzSPEwUx5YA9s/4Qf/AIKF/wDR0HwZ/wDDD6t/81FH/CD/APBQv/o6D4M/%2BGH1b/5qK8y%2BIf7VfxK0D4KfDH4/eB/2KfBl3pHxJTwtbw6B4o8Zy6Vr1nqWs3MMItRaR6PcxSC3ScTSSNPGdkM5KII8t6N4L%2BJV3rX7XXiv9mfxh%2Bzv4Z0rTtH8JWXiDw94ks9ZW7m1S3nuZ7ZlmtDZxi0ZXgYjE025SCdh4oAn/wCEH/4KF/8AR0HwZ/8ADD6t/wDNRR/wg/8AwUL/AOjoPgz/AOGH1b/5qK9JttI0vQ/GNrb6Lp0FpHcaZctPFbRBFdkkgCkhcAkB25963aAPGf8AhB/%2BChf/AEdB8Gf/AAw%2Brf8AzUUf8IP/AMFC/wDo6D4M/wDhh9W/%2BaivZqKAPGf%2BEH/4KF/9HQfBn/ww%2Brf/ADUUf8IP/wAFC/8Ao6D4M/8Ahh9W/wDmor2aigDxn/hB/wDgoX/0dB8Gf/DD6t/81FH/AAg//BQv/o6D4M/%2BGH1b/wCaivZqKAPGf%2BEH/wCChf8A0dB8Gf8Aww%2Brf/NRR/wg/wDwUL/6Og%2BDP/hh9W/%2BaivZqKAPGf8AhB/%2BChf/AEdB8Gf/AAw%2Brf8AzUUf8IP/AMFC/wDo6D4M/wDhh9W/%2BaivZqKAPGf%2BEH/4KF/9HQfBn/ww%2Brf/ADUUf8IP/wAFC/8Ao6D4M/8Ahh9W/wDmor2aigDxn/hB/wDgoX/0dB8Gf/DD6t/81FH/AAg//BQv/o6D4M/%2BGH1b/wCaivZqKAPGf%2BEH/wCChf8A0dB8Gf8Aww%2Brf/NRR/wg/wDwUL/6Og%2BDP/hh9W/%2BaivZqKAPGf8AhB/%2BChf/AEdB8Gf/AAw%2Brf8AzUUf8IP/AMFC/wDo6D4M/wDhh9W/%2BaivZqKAPGf%2BEH/4KF/9HQfBn/ww%2Brf/ADUUf8IP/wAFC/8Ao6D4M/8Ahh9W/wDmor0vxh8Svhz8PLb7Z4/8f6JocO3Pm6xqsNsuPXMjAV4/43/4Kj/8E8vh9vHiD9r3wTKY/vro%2BqjUSPbFoJDn2rmr43B4b%2BNVjH1lFfm1%2BR7eWcNcSZ21/Z2CrV7/APPulUmvvjTkv/JjV/4Qf/goX/0dB8Gf/DD6t/8ANRR/wg//AAUL/wCjoPgz/wCGH1b/AOaivMT/AMFn/wBkTXzt%2BDvhf4nfEQn/AFY8E/Da/n8z/d89Is0D/gpJ8fvEQ3fDv/gll8b7kN/qv%2BEls7XRyR23CWRttcX9uZU/gq83%2BFSl/wCkwa/E%2Bl/4hZx/T/3jAuh/1%2BqUKD%2B6tiKcl/4Aenf8IP8A8FC/%2BjoPgz/4YfVv/moq3%2Byt8RvjT4w1j4oeBPjpr/hfVtU8A/EKLQ7PVfCfhq50m3urWXQdH1NWe3uL28ZZFk1GVCwl2lY0O1TnPk3/AA1f/wAFTPEh2%2BF/%2BCV9lpMbfcuvEfxl00/nFDHvH510P/BOzWPjJr%2BufHnV/wBoDwfpGgeLpvjNAdW0jQtQN1a2%2BPCPhsRBJWALkwiNm9GZgOBXRhsfRxc3GEZrS95QlFffJLX5Hj53wlmWQYWNfFVsPK75eWliaFaa0bu40ZzstLNt6NpdT6ToooruPlwooooAKKKKACiiigAooooAKKKKACiiigAooooAKKKKACiiigAorN8Z%2BMfCvw78H6t8QPHOv2ulaJoWmz6hrGqXsoSGztYY2klmkY8KiIrMT2ANcr8Jf2lvhF8cPCOs%2BM/hxqmsXEHh65a31vTtQ8J6lp%2Bp2Uwt47kRyafd28d2rPBLFLGvlZlSVGTcGGQDvK%2BNP2zPFz%2BEf%2BCv37G/mS7LfVvDvxK024OepktdEaMfjJGlfQXwR/ay%2BC/7Qni/xF4A%2BHNx4oi1vwnaWNzr%2Bl%2BKfh9rWgzW0N4ZxbOF1S0tzIH%2BzT/c3Y2c43Ln45/4LBa1c%2BEP%2BCg37F/jyH5YdJ8Wax/aEmceXbT6j4ct5G/KUD8a8/Naro4GVT%2BVxf8A5PD9GfYcBYGOZ8VUMG/%2BXsa0V6vDYm3z5oq3nY/Q%2BiiivQPjwooooAKKKKACiiigAooooAKKKKACiiigDzPUv2ZP2bfjRo%2Bg%2BKfjF%2Bz34H8Wanb%2BH7W1g1HxL4Ts7%2BeOBVLrEsk8bMEDO7BQcAuxxkmqX/DA/wCwr/0ZZ8Jf/Dc6Z/8AGK5P4vf8FIP2L/2PpfDnw0/aL%2BMv/CO63feFLPU7Wy/4R3UbvfavviWTfa28iDLwyjaWDfLnGCCeQ/4fm/8ABLL/AKOi/wDLJ1z/AOQq8XEYvh2nXlGvOkpp683s7387q9/U0XiHiMqX1SOcTpKnpyLE1IKPWyiq8VHfZRW%2B2p63/wAMD/sK/wDRlnwl/wDDc6Z/8Yr07QNA0LwpoVl4W8LaLaabpmm2kdrp2nafbLDBawRqEjijjQBURVAVVUAAAADAr5W/4fm/8Esv%2Bjov/LJ1z/5Cr6e8A%2BOvCvxQ8CaL8S/AuqfbtE8RaRbano975DxfaLW4iWWKTZIqum5HU7WUMM4IB4rowOIyetOSwcqbaWvJy3t58qWl%2B4pcXVeJP3U8xlieTWzrzq8t9L2lVqWvtdJX2v0PCfhh%2Bwv4r8AePPCmtan8Z9N1DQfA/wAUPFXi/wANaXD4Qkguwuu/2s89pcXJvXSUxS6qxSVIYv3cIRkLMZB5HrX/AARhl17xT498SXnx28OxXHjLwF4/8L/21a/C9E1u5j8TSK4uNV1E3xfVHstojhQLbp5Y27UwGHu1h%2B358I9X06xm0nwp4jmvrrRfFupXeky/YLeXS08OXq2Gox3ck92kEDC7dIEZpfLYksXWNXdeE8G/8FPvA/x2m%2BHGo/ASCzlsdd%2BM%2Bo%2BBvG8F/fWOpS6ebfwbq/iFDbXOlX1xZyuxtLA70nmQJNNGwSVT5XpEHXSfsMB/EOq6%2BPihg6n8ddJ%2BI5iGif6v7FpGn6b9gz5/zb/sHmedgbfN2%2BW23c3efGv4Hah%2B0B%2BzzrvwS8f%2BMYre/wBasGjTxBoelmAWV0komtbqKCWWXLQypC%2B1nZXaM5wGwPnjxb/wVWlf4IeFPGvwi%2BFOv%2BI73VIPh7J4j8Uy%2BH4LfRtFbxJd6cqQXMA1JrmO4a1vfNVIDdRQNNB5szKSW%2BkPjD8ePD/wk%2BAXjz4%2B3Wjalc2PgLw/rGqX1lcafNaS3A06GWWVYxOillbyWCSqGjcEMjMpBIBzvwG/Z/8Aih8KdU8R%2BOvGfxa0PxD4s8ceLYdW8ZalZ%2BD5rCze1g06GxgsrG2a%2Bme12rbxSGSWa4LO8/ygSIIvL/h9/wAEt/DMGiad8OPjv8T5fGHgrwf4CPgn4baHo9neaBd6Nof2%2BwvFS4v7S%2BM1zcqdI0qMTw/ZRss%2BYyZHJ7f9lr42fH7xD8VPE3wG/aVHhG58RaN4K8O%2BK7XUvBelXNlaC11WTUoDZNHc3Nw7y28%2BlzZnDosqTRkRRkMteWH9vz9ozSpZvia/w48P%2BI/Cnia98f6X8PfB%2Bg6ddRa62o%2BG/t5gSe5aeSK5F%2Bul3ZCR28TQNJAmZyWYAHU6H/wTO0Dwl%2BzZ8WP2a/C/xs8T/wBn/FvxXdX2t6jr2s6nrNxBpV3LEt5p6Pf38r%2BZLaLPbm6Dq26cSskhjCt0f7S/7Knxt%2BNPxe8CeNfAfxw8IaN4U8CD7ZaeAvE/w4udWs7nWFcfZ9RdrfVbLLW0YxBE6vHFIxmw0iQtD4Jpn/BXLVdL8D%2BMtOufiP8ADjx54g0qPwP/AGL4q8C%2BH9RXRorjxLqN3p4tJrRbq6ubm4snsppXhhkWW48yKBY4ZiwHoPxZ/ar/AGhNE/YY1T9qD4RfHv4ba1q3hW31WLVbW%2B%2BC%2Bs2x1jVknFvZaRHp1xrcF1pV2bgpaulw8rNJMjBYh8rAHc%2BMv2HrD4j/ALX2j/tN%2BNbjwGbXw5qUWo6PFpHw2S28Q3M8Vk9vFFf6011I11axySyTpAkEOHSAM7CJhJX039kH4x6x428SfFn4t/GHwDr/AIm1H4dyeDtEgs/hRLa6LFZSXHnudQspdUnk1LLqqhBcQIqGVVVTKzVyPjf9sT9pnwL451KTULLwNL4d%2BHPiHwR4Y%2BJVrFo959s1XVNckso7m506Y3eyzt7UalayrFLFcPMFlj8yIhXPTWnxQ/bCb9tm9/Zwg%2BJXw11LQo/hzqHiW7ubf4bahBd%2BH3nvBa6HFPIdakS8Epi1F5NsduXGnMFMfmZQA57wP/wTPvfhL4c03xH8HPiR4P8AC/xD074hz%2BLI9U0j4ZC38NK8uj/2M9hHosF9G8NoLMRsFW88z7TH5zSNveNtHxb%2BwB4%2B1r9mrS/2O9B%2BPOiW3gKfw5Hpvja41LwC11rurTtcvcXd7a3i38UFhLLJI7rm1n8iRt6chQOG1D9tb9rfwJ4d%2BJmp%2BOvGvwsutH8K/FnRfA9h8SU8CajpukaP5lvDLqup6hbvq85ltreW5itAwuLdVnjl8x1RSwvad%2B3n8c/HP7NHg39oT4Y638P722tvjzpvw/8AHc7eHb6S2161ufGVl4dF/pLC9X7IskN19tRpTdoMpGPNX96wB2Guf8E6bTW/jbfeLh8R7C18D6r8Sj4/1PwvaeGHi1aXXG0f%2By32asl2pjtnj/eMgt/O3M6i4WNvLFf4b/8ABMH4c/AjxX4/8SfBHxffLZ%2BLvhpo3g7SfC3xE1bW/Fmj6ZbWMt8xWa1v9VIu7d0uo4ltwYvISKURuouZQW/Ff9sb42eEfjb4kn8Mab4WPw78AfEvwd4G8VWF9pty%2Bsajfa9Jpqfa7a5W5WG3ithrWnuYngmaYJcAPGQmfKX/AOCvXijwFqPi%2B/8AiSvg7VJ9K8F%2BPddT4ceH7G5t9d8Kz%2BHXLQWOrTy3EqM97bq8iP5FsAUzGtxGxlUA9I8If8EwrH4a%2BGdC1/4ZeL/BWifELQfiZceNrTVrP4ZCLw5Ddz6KdDe1g0aC9ja3tl08RIipd%2BYJoRK0j75EfF17/gkdZv8ADhfht4M%2BNNjYQ%2BIPhQvw8%2BIupaj4IW7utR0j7bd3udMZLqJdImWbUL3yyVuY4w0GIybdGN7WP2vv2svAXjS7/ZX8ay/Dy9%2BKF/4i8LWnh/xRpfhu%2Bh0OCz1iHU5nlnsXv3nlkt10PVAFW6jE5Nucw7mAn1L9sH9p0/BnwP8AE7Tl8BwXNl8eYfhz8T7KfQL2VdRz4ti8PNdaYy3qfYtys90Fn%2B1bNyRHeVaQgHaeHv2RvjJ/w1l4r/aC%2BJvxu8JeKtA8SWE2jWPhy8%2BHl1FqGhaE0OP7Ns74asYYxJcBbi4mNoZLgqqMVWK3EPI%2BFf8Agnz%2B0H4J%2BG2r6F4W/bNtbPxdZ/DCw%2BH3w18aJ8O8v4b0a3m3PPPAb/F9qMsYjVrhXt4leCJ1t1w6v6P4o%2BLvxw8K/t1eDvgtc3vhSbwD4x8D67qNvbx6LcjWLa902XTFLNdG68loXF%2Bw8sW4YGMHzDkrXB/sZ/t16h%2B1N8W9St7r4geG7HRL19dXwl4OHgHVrbULmHTtSFk12utXE4sdQIC7p7W1gLWr3McbyExsXAPS/gf8F9f/AGev2X5Pg/rmr%2BF7yPRdKuotOfwl4YutKtxAYy2ZI7q/vpZp2kMkkk7zlpXkLMNxZmpeOP8AlIX8L/8AsjPjz/07eEK9S8c/8iTrH/YKuP8A0W1eW%2BOP%2BUhfwv8A%2ByM%2BPP8A07eEKAPZqKKKACiivEv2tvGXxOHjv4U/Ar4Y/Ey/8FSfEHxbfWureK9IsLK5vbW0s9Ivb4xWy30E9uJZJYIQWkhkAiWbaoYq6AHttFfJJ/aE/aY%2BIH7Bnw7%2BKugalrUGsah4jt9N%2BJHijwD4STU9TtdOt7m5tbvU9O05oLlZWlmt4W8sQXBjhuJGWNzGK8I8aft3ftqeNPgxol18JtY8eS6tpGk/Ex9Ubw74a0GHXLpvD%2BuLpumanqtrqsIhgs2jWT7Zb2caXxuG2W8AEckcYB%2BlteC/sf8A/JvWr/8AZe/HP/qwNVr03Sfino8HwT074w6veTavZT%2BH7XUpbnwnoV7qBu0liR/MtbW3jkuZVbduVFRn2kZHBryP9hnxDYeLf2WLjxTpVvfRW2o/G/xpc28Wp6XPZXKI/j7VWAlt7hEmgcA8xyIrqchlBBFAHd6/%2BxN%2Bxl4r1298U%2BKf2R/hjqWp6ldyXWo6jqHgHTpp7qeRi8kskjwlndmJZmYkkkknJqp/wwP%2Bwr/0ZZ8Jf/Dc6Z/8Yrzvx/8A8FlP%2BCbnwv8AHet/DTx1%2B0d9h1vw7q9zpmsWX/CIaxL9nureVopY98doyPtdGG5WKnGQSOayP%2BH5v/BLL/o6L/yydc/%2BQq8GeN4YU2pTo3u739ne/W%2Bm973NP%2BIm4mh%2B6WeTjy6W%2Bt1Va2lrfWFa1rWsrWtZWsvZtA/Ym/Yy8Ka7ZeKfC37I/wAMdN1PTbuO607UdP8AAOnQz2s8bB45Y5EhDI6sAyspBBAIORWt%2B018E7L9pP8AZ08d/s96hr8ukw%2BN/COoaG%2BqwQCV7P7VbvCJghIDlC4baSA23GRnNeNeAf8Agsp/wTc%2BKHjvRfhp4F/aO%2B3a34i1e20zR7L/AIRDWIvtF1cSrFFHvktFRNzuo3MwUZySBzXuPx1%2BMPhz9n34PeI/jf4y0zUbrRvCulS6nrKaVCkk8VnEN08wV3QMscYeVhnO2NtoZsKfQwNbLa0JPByg0nryctr%2BfKlrbuTLiSpxJ%2B9njXieTS7qyq8t9bXlUqWvvZNX3t1PI/EX7E3xC8f6D8XZfHvx9tYvEnxb%2BHem%2BGb7WvCfhWbTYdNksxqIW5iikvp5GRxfgNEZgcRNiQeYNnDfBH/glNF8IvEUPiaH4k%2BELDb8XB45fQfAXwvj0DSIGHhG88OGztrVLyUwhvtQu2lZ5GZ0ZSPnDp6L8Z/%2BCiHwd%2BC2l%2BLtc1Tw3qeoWPgrxbZ%2BG9Y1EeINB0q0e/uNNi1EJDcavqVnDJsgngDAPv3zBUV9khTkbX/go7pPinx9Hf8Agm4tLjwFrngz4Sa74R1WLQpJ7y6/4TDxBq2mlZke7hWOMRWdmVYAvA0kzslzhYK7iTq/gb%2BxR4h%2BAUfgS78I/Fyyub/wN8DdK%2BHVvLqHhd2hu/sckDG%2BaNLtWXesLAQhzsLg%2BY23a3WftG/ALxx8VPEHg/4mfB/4n6d4R8Z%2BCb28fStU1rw0%2Br2M9reWrW9zbT2qXVq7g/uZVZZkKyW8ed6F0bzDwb/wUaPxM/aK8H%2BCPCHwf8TWXgHxH4K8Wa/aeLNU0JZ28Qw6TcadDHPpcdlczTmN/tUreVPbpPMGgaFCCc%2Bk/tSfGj4gfD3RvAvhb4OJpEPij4k%2BN7fw7oWoeJ9LnuLLTc2V5qE9zPaxzW8s221sLgLEJYiZGQFlGaAK3hf9l3WPh5%2BzDZfsteCfFXhq/wBE0vwLaaDZnxx4MbVkvbhAVuLm/hS7gjuop1xut1EOGZz5hVlRPMfBv/BNPXPhJo%2Bg%2BIfgp8VvCHh7xppnjLU/EWoyL8MP%2BKYuZb3TIdLMUGi29/A1okNna2sMLLdM6iOTe0vnyZ6zQP2tPilc/sG%2BN/2jn%2BG9prfjnwHD4v0%2B78PaHFOLbVtV0G/v9Pc26fvZlhnlsTKkYMsqpKEzI455D4B/tkfEv9oXRfiT4P8AAn7THwf1DVfhzLpmo3PxP0fwRe3fhq90q7tJpWVbVdZVlmhkt7hHlW9kQeXyivvSMA7r4e/sNaV4A0j4C%2BD1%2BI1zqGgfArTbj7Bp11pqhtV1Q6cdPt75mRwkCQ29xqAWBY2XN1GVZBAA97Tv2d/jxaftw337UVz8b/CMnhS98JQeHW8GJ8PLpNQS1hknuI3/ALSOqmMy/abhmY/Y9piURhVb97Xlnhz9qz9tCX9lr9n39ofxSPh7bT/EPxbolr430pvB%2BoQSSabrWpwQ6ebNG1JjYXEdncI8wma6HnAqFUZwnxR/4KI%2BL/hb%2B2HP8HfE%2BteDNO0aH4neHfB2neCLvTLo%2BJNdttWtLIp4gtrgXIiWxivr77Ky/ZpF3WcwNwkrLEAD6ru/%2BR20/wD7BV5/6Mtq1Ky7v/kdtP8A%2BwVef%2BjLatSgAooooAKKKKACiiigAopsssUETTTyKiIpZ3c4CgdST2rxr4qf8FE/2GfgsZYfiL%2B1R4LtbiDPnWNnrKXt0mOxgtvMkB/4DWNfE4fDR5q01FebS/No9PK8lznO6/scuw1SvPtTpzqP7oRlb529T2eivkg/8FfPhd45/dfsyfsz/GT4pmT/AI99Q8M%2BA5odPPoXuLox%2BWp9SlNPxn/4K%2B/Gb5Pht%2ByR8O/hTZS8JqPxK8YPqlzs/vrBp4Gx/RXyM9a8/wDtvAT/AIPNU/wRlL8bKP8A5MfXf8Qx4rw%2BuZqlgl1%2Bs16NFr/uHz1K3y9in5H1zVLXvE3hzwrYnVPFHiCx022X71xf3aQxj/gTkCvlP/hgX9sn4t/vf2n/APgpp43a2l/1mh/CrSbbw5FGveP7QgeWVT6sASDitDw//wAEXf8Agnnpt6uteKvg9f8Ai3VP%2BWmqeLvFeoXssp7llMwjJJ5%2B5R9bzWr/AAsMor%2B/NL8IKb/EHw/wBl%2BmOzqVWXbC4ac1/wCDMRPDxfqqbXqj0Lx1/wAFFf2EfhxvXxZ%2B1v4Bilj/ANZbWfiWC7mX2McDO4P4V5pdf8Fov2LdWuHsfg7H4%2B%2BJN0jbTbeA/h9f3TFv7oM0cSk/Q4969k8C/sU/sffDPY/gL9l3wBpcseNtza%2BErQTfjKY95/E16Va2trY26WllbRwxRriOKJAqqPQAcCj2eeVN6lOHpCUn98pJfgH13wtwf8PBYzEP/p5iKNGL9Y0KNSVvSaZ8m/8ADwD9sjx7x8C/%2BCU/xGuUk/1dx8QtfsfDewf3mjmLtx/dBzR/b/8AwWv8ff8AIM8AfALwBbSfeGs6pqWqXkQ/2fs4ETH68V9bUUf2biZ/xcVUf%2BHlgv8AyWLf4h/rrk2F0wGRYSHnV9viZf8AlWvCH/lNeh8lf8Mlf8FPfHPz/Ef/AIKe2%2BhQP/rNM8DfC6yjx/u3Mz%2BaPypP%2BHS%2Bh%2BK/3nxu/be%2BP3jXf/rbG9%2BITWti3riCCNdufZq%2BtqKP7Ey%2BX8RSn/inOX4OaX4C/wCIn8YUv9znSw3/AF4w2FpNf9vRoSn8%2Be/mfMng7/gjl/wTf8G3P9oRfsz6fqt2zbprrxHqt7qLSt6stxM6fkoFew%2BCP2X/ANmr4Z7D8Ov2e/BGhGP7j6R4VtLZh75jjBz713VFdNDLcuw38KjCPpGK/G1/xPFzTjTjHO01mGZYisn0nWqyX/gPtFH/AMlAAKAqgAAcAUUUV2nzIV4z%2By//AMlv/aO/7LNY/wDqFeF69mrxn9l//kt/7R3/AGWax/8AUK8L0AezUUUUAFFFFABRRRQAUUUUAFFFFABRRRQAUUUUAFFFFABRRRQAUUUUAeYftqfCHxV8fP2TPiH8HfAr2o1vxB4UvLXR476UpbzXRjJiilYAlYncKjtg4VmODjB4/wDZh0f4yT/HL4hfHT4l/APXvBsXxButLtbDRNS1bSrmfTbfTbDabm8NneTRhp555o41gaYiO3jaTyy%2B1ff6KAPHP2QfhT498Ht8Rfi18X9B/s7xZ8R/iPqGrXdi11FO1npdts07SYN8TMn/ACD7K2nZFYhZrqfqSxPxd/wW5%2BHPjDQPFlr8VW%2BLHiLX20n4b69r2h6BqltpyWuiNbeKPBIdbV7a0inYMkjFjcSzkbBtK5bP6aV8a/8ABUfwb/wn2v3vhhYfMkl/ZX%2BKM1umPvSw3vhOaMf99xrXn5vSdbKq8Fu4S%2B/lbX4pH2Ph5joZZx9lOKn8MMTQv/hdWEZJ%2BTjOSfk2fYWlalZ61pdtrGny77e7t0mgf%2B8jKGU/kRVivLv2IvGX/Cwv2N/hV41aXfJqPw80eW4bOf332OISD8HDD8K9RrroVVXoQqL7ST%2B9J/qfPZtgZ5XmuIwU96VSpTfrCc4f%2B2BRRRWp54UUUUAFFFFABRRRQAUUUUAFFFFAGV4G/wCRJ0f/ALBdv/6LWtWsoeDNDTKwNfQpkkRW%2BrXMaL7KqyBVHsABS/8ACH6T/wA/eq/%2BDy7/APjtAGpRWX/wh%2Bk/8/eq/wDg8u//AI7R/wAIfpP/AD96r/4PLv8A%2BO0AeH%2BIP%2BCaf7PniXxH8ZvEuoav4mEvxt062s9ct01GHydEESktJpqGEiBppyLmYS%2BaksyqWUr8hf4K/wCCd3w58LeLo/iF4g%2BMXj7xT4gPxOk8d3mseIL3T/Mu9TbwrP4X8tktbKGJLcWE5ZY4kjxMiNnZujb23/hD9J/5%2B9V/8Hl3/wDHaP8AhD9J/wCfvVf/AAeXf/x2gD5y/wCHUnwYs/C%2BgeAfDnxn%2BJGkeHdIsfCEOqaDp2p6eIPEE3hprU6Zd3jPYtKJttlbJL9neCOVIlDJ8q4%2BgdY%2BHWkeLfA%2Bu/Dr4hX1z4j0nxFDfW2pWuqRwqGsroOr2Y8iOMGJY3MalsyFQN7u2WNz/hD9J/5%2B9V/8Hl3/APHaP%2BEP0n/n71X/AMHl3/8AHaAPM/gf%2Bx7pfwMOp6tpvxz8d6/4g1aHRLG58VeJp9NnvxpGlSySWukjy7KOH7Nie8R3aM3Lfbp388SlJUpeCv2Fvh54E%2BK1x8UNG%2BJHjB4YbzXb/wAMeGLi6s203wzqGszGfUb2yUWomM0srzOPtEs6RfaJliSNHK16z/wh%2Bk/8/eq/%2BDy7/wDjtH/CH6T/AM/eq/8Ag8u//jtAHjz/ALBfgnWPDXiODx/8YvHHifxX4kv9FvJfiLrEmmR6xYyaPdG70oWyWtjDZRJa3LSzLGbZkdribzVlErg3NK/Ya%2BGlp4H0rwRr3jfxVrn2T4nQePtd1PVbq1%2B0eI9ZgnFxC96sNtHD5Uc8drKkVvHAqtZW4GFVlf1X/hD9J/5%2B9V/8Hl3/APHaP%2BEP0n/n71X/AMHl3/8AHaAPLfiP%2BxD8OPiX8Z/%2BFvan458VWNveanomp%2BJfB2nXVqukeIL/AEi4Fxpt1dLJbvcCSGVIWxBPCsotoVlWRUC12ngT4IeFPAHxR8c/GDT9Q1C81rx9eWEuqS6hLGy2kFnaJbW9nbhEUpApE8%2B1y7edeTtu2sqLvf8ACH6T/wA/eq/%2BDy7/APjtH/CH6T/z96r/AODy7/8AjtAHB%2BEP2X7L4a/Ad/gd8KfjD4v8NTSaxe6rP4zsRptxq817eahLqF5O/wBrsprV2mnnm3ZtyAsh2hSFI474g/8ABPjwt4z%2BBWgfAPw5%2B0H8RPCdho3jO38W3%2BsaC2jT6hrutw6zFraXt5JqGm3KF/7SiW5KwpEhJMZXysRD23/hD9J/5%2B9V/wDB5d//AB2j/hD9J/5%2B9V/8Hl3/APHaAPJfEv7CngHxb8V7b4p658T/ABlJHJqeh6v4m8MpcWCaZ4l1fRyjafqd6i2glW4ieG2fFtLBE7WkG%2BNhGBU/iH9iPwH8R/FHifxB8dfiN4s%2BIFr4i8Na14dtNC8SyWEdloekasV%2B3WdotjaW7sJI44YvNuHnnWOIKJBvkL%2Bp/wDCH6T/AM/eq/8Ag8u//jtH/CH6T/z96r/4PLv/AOO0AeJW/wDwTy8EP4Z1OLxF8dviJrXjC/1vSNVtfidql5ph1zTZtLUrYLB5diln5cSyXClJLaQSi8uPN8wysaj8cf8ABPHw34q%2BCXhn4GeG/wBpD4keFrLw94yHi281jQ/7Emv9d1wauus/brx77TLiPf8A2gGuCkEcMZLshTywsa%2B4/wDCH6T/AM/eq/8Ag8u//jtH/CH6T/z96r/4PLv/AOO0AeY%2BMf2R9Q8ZftGeCv2kbj9p/wCIdle%2BCNJn06z8PWVtoP8AZt9BcPbPefaPM0t7gm4Npb7zFPHs2fufK3NmL4XfsQfDn4VfFm2%2BKGleO/FV/a6PNrU3hHwjqNxZ/wBleHJdWuRc372ohto7hzJJu2i4mmWFJHSIRodo9T/4Q/Sf%2BfvVf/B5d/8Ax2j/AIQ/Sf8An71X/wAHl3/8doATxz/yJOsf9gu4/wDRbV5d44/5SF/C/wD7Iz48/wDTt4Qr1E%2BDNDfCztfTJkExXGrXMiN7MrSFWHsQRXl3jj/lIX8L/wDsjPjz/wBO3hCgD2aiiigArjvjV8Bvhj%2B0F4esfDXxO0rUJo9L1RNS0m%2B0bX73Sr/T7tY5IhPbXljNDcW7mKaaJjHIpaOaRGyrsp7GigDzr/hlb4N2/wAMI/g3oFn4i0Lw5b2VhZ2On%2BF/HWr6S1hBZoEgjtpbO6iktRtUB/JZPN58zfk55/xd/wAE/wD9k/xp4T0DwTqfw3vbTT/Dej3mk6aNB8Wappc0lheOkl5a3M9ncxS3sNxJGkk0dw0qzSDfIGYlj7LRQBBpel6boemW2i6Np8NpZ2cCQWlrbRBI4YkUKqIo4VQAAAOABXhf7H//ACb1q/8A2Xrxz/6sDVa97rxP9h6wtNT%2BAuv2N9AJIpPjL8Rgykkf8ztrRByOQQcEEcgigD2yisr/AIQ/Sf8An71T/wAHl3/8dpf%2BEP0n/n71X/weXf8A8doA1Kqa9oWj%2BKNDvfDPiLTYrzT9RtJLW%2Bs7hN0c8MilHjYd1ZSQR6Gq3/CH6T/z96r/AODy7/8AjtH/AAh%2Bk/8AP3qv/g8u/wD47QB8/eCf%2BCYPwo%2BGnwj8B/DD4efGr4j6VqHw%2B1vU9U0vxyup6fc63eS36TRXQupLmykgk3RTeUrrCksaQxCN02kmx4G/4JifAP4f%2BGvD3hXRPFvjCS28NeGvh5odg13qVs8j23g3VbvVNLaRvs43SSz3kq3DcB0VBGIWBdvef%2BEP0n/n71X/AMHl3/8AHaP%2BEP0n/n71X/weXf8A8doA8Q%2BG3/BO7wL8KfiJpfxA8JfHX4iKvhfw3ruheA9CuLzTZLDwtZ6rNbTTJaIbHfKYntIPJN09xsVNh3J8tekfHP4B6J8d/Bul%2BHNX8aa7omqaBrVrrHh7xZoD2q6jpmoQBlW5iE8EtuxaOSaJ0kheN45pFKYPHT/8IfpP/P3qv/g8u/8A47R/wh%2Bk/wDP3qv/AIPLv/47QBxnwz/Zw074QfDS1%2BF/w/8Aih4psrSDT9YF3fM1jLdX%2Bqaldm8uNZmeS1YG9FzJczAIq25a8l3wOBEI%2BYn/AGF/A%2BtfBz4jfCfx18WPG3iK8%2BLFq1p468aaldWMWr31obdbUWqG1tIba3hFuGiCQwJjzpZP9bI0h9a/4Q/Sf%2BfvVf8AweXf/wAdo/4Q/Sf%2BfvVf/B5d/wDx2gDzj9qH9k6L9pnw/wCGPDNr8efGvw/s/Cuv2es2cXgW20XFxd2c8M9m0g1LTrwBYZIVZUjCK25g4cbQLfiv9mKD4gfFDQ/H/wAQPjT4y1nSfDuoWup6Z4Fuv7Mj0ganbxFIb5/JskupZFcmYRvcGBZtsixAom3vP%2BEP0n/n71X/AMHl3/8AHaP%2BEP0n/n71X/weXf8A8doAS7/5HbT/APsFXn/oy2rVqlpvh7S9KuGvLZZ3mZNhlubuWZguc7QZGYgZ5wPSrtABRXjn7Qv/AAUA/Y%2B/ZdkfT/jF8dNGs9VU7V8PWEpvdSdzwq/ZbcPKuTwCyhc968kH7bn7dH7RX%2BjfsafsJ32i6XP/AKjxz8bbs6TagHpIthETczIeoZW6YyOa86vm2Bo1HS5uaf8ALBOcvmo3t/284n2eV%2BH/ABVmeDjjXQVDDPatiJRw9J/4Z1XFz9KUKr7dL/X1eO/G3/goH%2BxZ%2Bzs01v8AF79pPwtpt5bkibS4NQF5eoR2NtbCSYf98V5J/wAO5v2hvj7/AKZ%2B3X%2B3R4s8Q2c3M3gb4coPD%2BjbT1hlaPM12nXl9je/FeyfBD9hP9j39nFIG%2BDX7OnhbR7q3AEWqf2YtxfDHTN1NvmP4vWPt83xP8KlGmu9R3f/AIBDb5zPQeVeHWTf79j6uNqLeGFgqdP0%2BsYlXl608Pbqm%2Bvj3/D0Txz8WP8AR/2Nv2C/il8QVk/49te1yyj8O6NNnoyXd3ncO5BRT%2BdL/wAIf/wWT%2BOHPiP4tfCv4J6ZN92HwxosniDVYlPVXa6Ity3bchFfXNFP%2BzcRW/3jEzl5RtTX/kt5f%2BTi/wBdcny7TJsmw9JradfnxlT1/fONFP0w7Xqj5Ii/4JD/AAx%2BIEq337W37RnxW%2BL8rMGm07xL4vmtdLDdf3dpaGPyxnsHIr2f4VfsTfshfBFYm%2BFf7NfgvRp4QNl9b%2BH4GuuOmZ3Uyt%2BLGvUKK2oZVluHlzwpR5u7XNL/AMClzP8AE8zNOP8AjXOKH1fFY%2Br7L/n3CXsqS9KVFUaf/kj87gAAMAUUUV6B8gFFFFABRRRQAUUUUAFFZ%2Bv%2BLvCnhSD7V4p8T6dpsWM%2BZqF7HCuPq5FcTqf7YX7JGisV1n9qX4c2hU4YXPjewjx/31MKynXoUvjml6tL82jGpicNR/iTjH1lFfm0ejUV43qP/BRL9gnS8/av2zfhg2Oot/HFjL/6BKayz/wVB/4J5qSD%2B2H4D49NcjrneZZdF614f%2BBx/wDkjllm%2BUxdniKf/gcP/kz3iivBv%2BHof/BPL/o8PwJ/4PEq7pX/AAUl/YA1http%2B2V8N05x/pXi61g/9GutCzPLW7KvD/wOP/yQlnGUSdliaf8A4HD/AOSPbK8Z/Zf/AOS3/tHf9lmsf/UK8L10OkftgfsleIMf2D%2B1F8Or7d937J42sJc/98ymuT/ZC1/QvE/xa/aI13w1rVpqNjcfGWyMF5Y3KzRSY8F%2BGFO10JBwQRweoIrop16FX%2BHNP0af5NnXSxGHr/w5xl6NP8mz3GiiitTYKKKKACiiigAooooAKKKKACiiigAooooAKKKKACiiigAooooAKK8i/b6%2BIXjT4UfsUfFP4kfDzWZNM1nRfA2o3Vlq8MYZ9NKwNuvFDAqTAu6YbgVzHyCMivNfg34m8ZfBe7/aM%2BHvww8TeIvG2l/DzTbHUvBsfirxLe67dR6lPon2qXTTeXcstxMpZLa4CPIxX%2B0CF2oY1UA%2Bp68H%2BNXhy18Y/tueBPCN9jyNV%2BA/xDs5sj%2BCXUvCKH9Grzn/AIJffErX9UV/BvxLtfEk/izXvhj4Z8b3Guap8Wr7xPbapaah9rVJxBOEt9HuGlhmZ7SzjFrtMYikkEREfb3/AI08SeIf%2BCm3gvw7q3wj8Q6FZ6T8HvHCWGvarc6c9prQbVvCWXtltruWdAm0Z%2B0RQH5xtDfNhSSlFp7MunUnRqRqQdnFpp9mmmn96Rh/8EYfEl34g/4Ju/Dq11PK3ujR6jpN5ETzG9tqNzEqn/gCp%2BdfUdfJX/BJH/inPCXxq%2BEL/J/whv7QniWxtYvS1eSKaJgOwO9yK%2Bta8vI23lFBPdRUfnG8f/bT7rxSpwh4i5pOCtGpWlVX%2BGsqddfhWCiiivVPggooooAKKKKACiiigAooooAKKKKACiiigAooooAKKKKACiiigAooooAKKKKACiiigAooooAKKKKACiiigAooooAK8Z8cf8pC/hf/ANkZ8ef%2BnbwhXs1eM%2BOP%2BUhfwv8A%2ByM%2BPP8A07eEKAPZqKKKACiiigAooooAK8Z/YP8A%2BSIa5/2Wb4j/APqa63Xs1eM/sH/8kQ1z/ss3xH/9TXW6APZqKKKACiiigAooooAKKKKACiioNU1TTNE02fWNZ1GC0tLWFpbq6upljjhjUZZ2ZiAqgAkk8ChtJXY4xlOSjFXbJ6y/GfjjwX8OfDd14x%2BIPi3TdD0iyTfeanq99HbW8K%2BrSSEKv4mvlfxr/wAFGvH37QHii9%2BDn/BMr4XxfEDVLWY2%2Br/EvWi9v4U0N%2B588fNeyDqEi4IIZTIARVrwP/wSr8JeNvEFp8Uf29Pi3rvxv8Vwt50Vlr8pg8P6dIeq22mxER7eSDv3Kw5KA15DzOeJk44CHtP77dqa/wC3rNz9IJr%2B8fokOB8LklKNfivEvCXSccPCKqYuSeqbpOUYUE1a0sTOEmndUWt6%2Bu/8FRr/AOMusXHgT/gnZ%2Bz1r3xe1KGUwXHiyZG0vwzYP0JkvZwpmK9fLQDeB8jGok/YY/bT/aPQXv7bn7cWqadptwN0/wAP/gxD/ZFigPJikvXBuLmM9CrgdOG5zX1ba2vhD4e%2BGEs7K203Q9G0y3CxxRJHbWtpEvQADCRqPwArxr4jf8FO/wDgn58Kmkj8X/tb%2BCzJCSJYNI1UalKhHUFLMSsD7YzXPXwtFLnzPE3X8vN7OH3KSlL/ALek/Q5sV4j5PwzHlyDC0cEl/wAvqzp18S/NVK0fZ0vShQVv%2Bfjtc3P2e/2Ef2Rv2WUSb4I/ArQ9Jv1Hza3NAbrUXJ6k3U5ebnqQGA56CvW6%2BSP%2BHxnwH8WfJ%2Bz/APAX4z/E/f8A6ifwZ8NrloG9GMlwYtq%2B%2BOPSnD9ur9vnxEN3w9/4JI%2BLZ0f/AFb%2BJfiNpeknHYssisR9K0oZnkuHpqnhtYrpThJr/wAlhb8X6n5xmfHMc9xksXjMXUxVWW837atJ/wDb3LLTslK3ZI%2BtaK%2BSv%2BF3f8FivEn/ACBf2Hvhl4a3dP8AhIviUbzZ9fsiDP4Uh8Pf8Ft/GHGp/EL9njwdC33Touk6tqE6D3%2B0EIT9OK2/taMvgoVZf9w2v/SpRPP/ALchL%2BHh60v%2B4TX/AKXKJ9bUV8k/8Mcf8FLfFvPxB/4Kt3VlC33rHwl8KNNtNv8Auzs5f8xTT/wSL8DeNz5n7SP7W3xt%2BJSv/rtM1zx5Jbaew9Ft7ZU2574ej67mM/4eFa/xThH8nNh/aOa1P4WCkv8AHUpxX4Oo/wAD3b4ofta/su/BXzE%2BLP7Q3gzw9LFnda6p4ktopyR2ERfex9gpNeK6r/wWw/4Jv2d62laF8dbvXrxTj7J4f8IapdM30YWwQ/g1dt8L/wDgmP8AsAfB7y38EfsneDhLDjyrrV9M/tKdD6iW8Mrg%2B4Oa9s0jRNG8P2SaboOkWtlbRjCW9pbrGij2VQAKOXPKm8qcPRTm/vbgvwDk4jq6udKn5KM6j%2B9ypr8D5T/4e8/DzWhj4a/scftEeLt3%2Brl0L4VymI%2B5aWVMD3xR/wAPAP2zvFP/ACSv/gk18Rbvd/qz4t8U6foX5%2Bdv219bUUfU8zn8eKa/w04L8%2BYP7Pzifx41r/DSpx/F87Pkn/hcH/BZbxj/AMi5%2Bx58JPBu/wC7/wAJd8QJtR2f732FRn8KUeEP%2BC2%2BtgNqfxh/Z40Qt95dH8P6tc7PYeeRn8a%2BtaKP7LcvjxFV/wDb6j%2BEYIP7FlL%2BJiq0v%2B31H8IwR8lf8M8/8FeNY/5CX/BRLwTo2ev9kfCS3uNv089xmj/hiL/gojrX/I5f8FdPEEoP3l0P4UaTp%2BPYFHY/jX1rRR/Y%2BFfxTqP1q1P0kg/sDBP451Zetar%2BkkfJX/Dsj4ta0MeNf%2BCov7Qk%2Bfv/ANh%2BJoNNz9PLhbFH/DnT4Dax/wAlJ/aG%2BOfjIH748T/FO5l3/Xyljr61oo/sPKn8VPm9ZTl%2Bc2vwD/VzJX8VHm/xSnL/ANKqNfgfLWgf8EWf%2BCaGgT/bD%2BzPb6hcMcyXGseItSu2kPqRLcsv6V22l/8ABNP/AIJ%2B6Qqrafsb/DpwowPtXha3nP4%2BYrZ/Gvb6K1p5TlVL4MPBf9uR/wAmbU8iySj8GFpr/tyH/wAizy7Tv2IP2LdIx/ZX7IfwvtsdDB4B05D%2BkNaq/ssfsxKAq/s5eAwB0A8IWX/xqu8oroWDwkdqcV/27H/5E6o4DARVlRgv%2B3I//InCf8Mtfsx/9G5%2BA/8AwkLL/wCNVR1X9jX9kHXV2a3%2Byp8NrwHqLrwNp8n/AKFCa9JooeEwjVnTj/4DH/5EbwOBkrOlD/wGP/yJ4fq//BNL/gn5reftv7G/w7TPX7H4Wt7f/wBFKuKx/wBgf4S/Df4GeMPj/wDCz4R%2BEbTQfD2l/Ge2On6TYgiKDzfB/hqaTaCSfmkkduvVjX0RXjP7L/8AyW/9o7/ss1j/AOoV4XpUsHhKE%2BelTjF7XUUn%2BCQqOAwGGqOpRpRjJ6XjGKdu11FHs1FFFdJ1hRRRQAUUUUAFFFFABRRRQAUUUUAFFFFABRRRQAUUUUAFFFFAEV7ZWepWcunajaRXFvcRNHPBNGHSRGGGVlPBBBIIPBBrlPh1%2Bzz8AfhBpun6N8Jfgd4P8L2ek3FxPpVp4d8M2tlFZyzqFnkiWGNRG0iqA7KAWAAOcV2FFAHLfDP4G/BT4KjUx8G/g/4W8JDWrz7XrI8M%2BH7aw%2B33HP76byEXzZOT8zZPJ5rgvHH/ACkL%2BF//AGRnx5/6dvCFezV4z44/5SF/C/8A7Iz48/8ATt4QoA8w/Yp/4o//AIKIftXfDBvkim1vw14hsl7SfbNOYzsPpIig%2B9fWtfJWgf8AFE/8FsvEGmH5IPG/7PtrqO7tJc2eqG32%2B5ERz9K%2Bta8nJ/doVKf8tSov/JuZfhM/QPEf99m2Dxn/AD/wWDn81QVGX/k2Hdwooor1j8/CiiigAooooAKKKKACiiigAooooAKKKKACiiigAooooAKKKKACiiigAooooAKKKKACiiigAooooAKKKKACiiigArxnxx/ykL%2BF/wD2Rnx5/wCnbwhXs1eM%2BOP%2BUhfwv/7Iz48/9O3hCgD2aiiigArj/jT8efhj%2Bz94dsvEvxO1W/hj1TVE03SbLRtAvdVvtQu2jklEFtZ2MM1xcOIoZpSscbFY4ZHbCozDsK8S/a28G/E4%2BO/hT8dfhj8Mr/xtJ8PvFt9dat4U0i/sra9urS80i9sjNbNfT29uZY5Z4SVkmjBiabaxYKjgHWeIf2pvgP4a%2BDWifH668dfbPC3iZbI%2BGrzRNLutRn1drsA20dra2sUlxcyODkRxxs4AYlQFYjL1v9tX9nPQ/Anh34hf8JXq%2Bo2niuW5i0HTvD/gzVtT1W5e2ZkulOm2lrJexm3dTHOHhUwSDZLsYha8b8P/ALOnxE8O/sReEvhn4z%2BEnjyXxp4H1i18R6VP8NNb0Fb2w1a5nuJ5Rp8mq3CWkqWq3k1rILtFjliL7EkyBXjo/wCCf/7TXw78LeCviENH%2BJniTXE0n4knUtF8FfE600jWNL1XxJr9trNjcXN8Lqzhnjh8hkukhZoXnKMltNCoVQD9FrK7g1Cziv7bf5c8SyR%2BZGyNtIyMqwBU4PQgEd68e/YP/wCSIa5/2Wb4j/8Aqa63Xa%2BHvCfxS1T4E6T4N8dfE2503xm3hu0t9d8WeGLa1MiaisKC4uLeO7t5YMNKHKiSFlAb7vp55/wTp0m/0H9m6%2B0TVfE99rdzZ/Fv4hw3GsanHAlzfOvjPWgZpVt4ooQ7kbiI40TJO1VGAAD3SiiigAooooAKKKKACivJ/wBq79tH4Gfsd%2BFbfW/iprs0%2Bq6m/k%2BHPCWjQ/adV1uckBYra3U7myxA3nCAkAsCQD8Bj9vT/gq5/wAFCfipcfBT9kTw74b%2BHml27qviLXbBv7QbQY2zmO71CRGhE%2B3BENtGZQSwJUo23xswz3A5fVVHWdV7QguaXz6Lvq9tbW1NMDhswzfEVaGW0JVpUY89Rx5VClB6KVarOUKVJN6R55803pCnN6H2z%2B3L/wAFFv2ef2DfB66l8TdcF/4jvoS2g%2BDtOnT7bfHkB2ycQQ5BzM%2BFGDtDsNp/Pyz/AGudE/b01iPxZ%2B1pd/E/4k6JHciTTPgL8BvBd9JpULq2VGo3rmI30gwM7GMYIyj7WK19mfs9f8EdP2U/hXqA%2BIvxs0%2B7%2BMHxBunWfWPGPxEma%2BNxcYALJbys0aqCMqZPMkXp5hwK%2BrbGwsdLsotO0yzit7eCMJBBBGESNQMBVUcAAdhXn1suzrNqnNipxp0%2BlNLn/wDA3eMZP%2B7rBdpbnr5ZxbxFkOFcMlp0sLiHe%2BJt9YxCW1qDkoUsOv79OE6z/wCftNaHxx4L/aZ/bjPhey8C/sp/8ElH8IeHbKERaa/jXxdYaLBZp2H2CJTIB3O09c55NaR%2BDH/BXv42E/8ACzv2svh78JtOl%2B/p3wy8KPqd20f91rjUCPLf/bjzjt6V9dUV6UcpcoqNWvUkuyagvupxjp/28fGVcrxOMqyqY3GVqspNt%2B/yXb1bfIlJ3erbm2%2BrZ8maZ/wRz/Zs8SX8WvftMfEP4kfGPUo3Egk%2BIXja5mt43/6ZwQGJVX0Q7hjjmvcvhv8Asm/svfB9Ih8Lf2d/BWgPCAEuNL8M2sMxx3MipvY%2B5JNeg0V00Msy7DS5qdKKfe13/wCBPml%2BJthsmyrBy5qNCKl3snL5ylzS/wDJgoooruPSCiiigAooooAKKKKACiiigAooooAKKKKACiiigAooooAKKKKACiiigArxn9l//kt/7R3/AGWax/8AUK8L17NXjP7L/wDyW/8AaO/7LNY/%2BoV4XoA9mooooAKKKKACiiigAooooAKKKKACiiigAooooAKKKKACiiigAooooA479oP4zaF%2Bzv8AA7xZ8c/EmmXV9Z%2BFNAudSk0%2Bx2%2BfeNFGWS3i3EL5kjBY13EDc4yQMmuN%2BD/7TXjfxZafEPw18X/hPp3hjxn8OEhn1bRNF8UPqtjd2txZC6tp4Lx7S2chsTQsGgUpJbyY3psduy/aE%2BDOh/tE/A3xZ8DPEmqXVhZ%2BK9AudNk1Cx2%2BfZtLGVS4j3Ar5kbFZF3AjcgyCMiuG%2BDP7OXxr%2BHfiDxb8R/G3xw8N%2BIPF3jeSP8At7U7TwDNZWccNrYrbWENtbNqMzRJHJ508vmSymZriRVMK7AoBX/YE/a81L9tf4IWfxunsPh1a2upWdncW9n4A%2BJx8TNZPNbpM9rfObC0Frcx%2BYqtEBJznJGBm544/wCUhfwv/wCyM%2BPP/Tt4Qqx8AP2c/iB8PPi74y%2BPvxi%2BJ%2BheI/FXjHRNG0a4HhTwdJoenW9lpj38kH7iW9vJZJ2fUbgPK8xGxIUVECEty1/8I/hR4G/4KbeC/Hvgn4Y%2BHtH13xP8HvHEviXWtK0WC3u9WePVvCXltczRoHnK73wXLEbjjqaAOR/ad/4ov/gq5%2BzV40A2xeJ9A8WeHbyXsPLtI7qFT/vOSB719a18lf8ABUH/AIpTx/8As0/F5Pl/sf8AaA0rTLmUf8srfUIpoZGPt8ig/UV9a15OA9zHYun/AHoy/wDAqa/WLP0Di3/aeFeH8X/04rUX60MXUt90a8V6BRRRXrH5%2BFFFFABRRRQAUUUUAFFFFABRRRQAUUUUAFFFFABRRRQAUUUUAFFFFABRRRQAUUUUAFFFFABRRRQAUUUUAFFFFABXjPjj/lIX8L/%2ByM%2BPP/Tt4Qr2avGfHH/KQv4X/wDZGfHn/p28IUAezUUUUAFFFFABRRRQAV4z%2Bwf/AMkQ1z/ss3xH/wDU11uvZq8Z/YP/AOSIa5/2Wb4j/wDqa63QB7NRRRQAUUUUAFfHf7Tf/BTW6uNb134LfsP2Oj%2BJfEGgQufGnxG127EPhTwTEMh5bu6%2B7NKuDiFCckEfMytHWH/wUM/bJ1fxxrXiP9kX9n/4hL4csPD2lNe/HT4rREtF4P0og7rOBl/1mozjMaRqdwLbRhtzRcX%2Bxl%2BwhP8AtVfD3wp4l%2BMHgk%2BCvgHowjvfhz8FLeQiXXe6axr0qgG5llAEgj%2B6Qw6LkS/LZhmmKxeJ%2BpZfvreS8nZ2eqio7SnZvm9yCcuZw9Hh/IJ8URr43E4n6pleHkoVsQkpValVrm%2BrYSD0nW5VedR/u6CfNN6JS8s/Zi/Yt%2BJH7eXju/8AigPiB4ml8Jam7QeL/jt4itzBrvjRBlZLHQ7dxjStMxujLgb3UlD8u6BP0/8Ag38F/hd%2Bz98O9O%2BFPwc8F2WgaBpcWy0sLGPAz3d2OWkkY8s7Esx5JJrotO07T9H0%2BDSdJsIbW1tYVhtra2iCRwxqAFRVXAVQAAAOABU1ejlWTYbLIuS96o95fi0r3aV/NtvWTb29XN%2BIKFfAQyfKMOsJl1KTlCjFuTlN6OtiKjtLEYiS%2BKpO6inyUoU6aSZRRRXsHzIUUUUAFFFFABRRRQAUUUUAFFFFABRRRQAUUUUAFFFFABRRRQAUUUUAFFFFABRRRQAUUUUAFeM/sv8A/Jb/ANo7/ss1j/6hXhevZq8Z/Zf/AOS3/tHf9lmsf/UK8L0AezUUUUAFFFFABRRRQAUUUUAFFFFABRRRQAUUUUAFFFFABRRRQAUUUUAFFR3t7Z6dZy6hqF3FBbwRNJPPNIFSNFGWZmPAAAJJPSsD4W/GH4SfHHwqvjv4KfFLw54w0Nrh4F1nwtrdvqFoZUxvjE0Dum5cjK5yM80AdHXjPjj/AJSF/C//ALIz48/9O3hCvTvDnxE%2BH/jHW9b8M%2BEfHOj6rqXhq%2BSy8R6fpupxTz6VcvEkyQXMaMWgkaKSOQI4DFHVgMMDXmPjj/lIX8L/APsjPjz/ANO3hCgDzT/gtXa3Fn%2BwRrPxFsIS914K8UaDr1sF%2B8Gi1KBCR9FlY/QGvq20u7e/tIr6zlEkU0ayROvRlIyCPwrxX/gpP4N/4T39gT4v%2BHRF5jjwBqV3EmMlpLaFrhAPfdEMe9dP%2Bx34y/4WJ%2ByX8MfHbS731f4f6PdTHOT5j2UTOD7hiQfpXk0/czyov5qcH/4DKUf1R%2BgYz/avC3BVOtDGYin8q1ChWX405P1Z6PRRRXrH5%2BFFFFABRRRQAUUUUAFFFFABRRRQAUUUUAFFFFABRRRQAUUUUAFFFFABRRRQAUUUUAFFFFABRRRQAUUUUAFFFFABXjPjj/lIX8L/APsjPjz/ANO3hCvZq8Z8cf8AKQv4X/8AZGfHn/p28IUAezUUUUAFFFFABRRRQAV4z%2Bwf/wAkQ1z/ALLN8R//AFNdbr2avGf2D/8AkiGuf9lm%2BI//AKmut0AezUUUUAFfLn7b37V/xJ/4Tiw/Yc/Y0MN98XvFdp5t/qrDfa%2BCtKbAk1O6IBCybW/dRnkkq2DmNJO9/bt/avtv2RvgTceM9I0n%2B2PF2t3kei%2BAPDUSlpdW1i4OyCIIOWVT874x8qEA7mXPyNd/D74i/s5eEtM/Yg%2BCvic6z%2B078ekOr/F74jPIZZdAsHJ%2B1XryDBSOMM8Fui7ctuddrsgb57OcwlC%2BHpNrRczXxe87RhD/AKeVHon9mPNN7IeVZLmfGfEMMgy%2BapJxc69Zu0aFCKcpzk/svkUpX3UbcqdSdJOl%2Bz/%2Byp8O/wBon4mxfsl/Ct7jUfgR8I/EI1D4q%2BLLpt83xN8ZjDtFNJk%2BdBC3zOMlei8gxSD9Kooo4I1hhjVERQqIowFA6ADtXFfs5/s/fDj9lz4M6F8DfhVpX2XR9CsxFGz4MtzKfmkuJWAG6SRyzsfVuAAAB29dmU5csBh/eS55WvbZW2jH%2B7FaLu%2BaT1kz6rijOMtxXsMqyaDpZdg4unh4NWbV7zrVEtPbV5Lnm7vlXJTTcafvFFFFeqfKBRRRQAUUUUAFFFFABRRRQAUUUUAFFFFABRRRQAUUUUAFFFFABRRRQAUUUUAFFFFABRRRQAUUUUAFeM/sv/8AJb/2jv8Ass1j/wCoV4Xr2avGf2X/APkt/wC0d/2Wax/9QrwvQB7NRRRQAUUUUAFFFFABRRRQAUUUUAFFFFABRRRQAUUUUAFFFFABRRRQB5F%2B338PvGnxW/Yo%2BKfw4%2BHmjS6nrOs%2BBtRtbLSIHCvqZaBt1mpYhQZ13QjcQv7zkgZNeY/A3X/iD4j8efHP4r/A/wCHOs%2BHJfHtvZRfDS2%2BIXgfV9GtLvWbDRFje9voZLVZ7O2MjWlrvlRHlWwbyRIqxlvquigD46/4Je/BT9on4F/FX40eGfjR8H9I0K0vdV0S7i8Q6b4tvNWPiHUW0uE316ZrjSrFZ2lnMk0siDCzyyxhAEDHvr/Tfivaf8FNvBd5428aeHtQ0K4%2BD3jg%2BGtO0rwxPZ3dgg1bwl5i3NzJezJdk5TBSG3C7TkNuG36Hrxnxx/ykL%2BF/wD2Rnx5/wCnbwhQB6d8RPCkPjv4f674HuQPL1nR7qxk3dNs0TRnP4NXz3/wRt8VT%2BLf%2BCbHwwnvCRcafp15plxG/wB6NrW%2BuLcKfT5Y1/Aivpyvkr/gkJ/xT3wu%2BLHwhb5f%2BEG%2BPnifSIYvSHzo5kYD%2B6fNbH415Nf3M6oS/mhUj93JNfqfoGU/7V4aZtR60cRg6y9JrEYeX3tw%2B5H1rRRRXrH5%2BFFFFABRRRQAUUUUAFFFFABRRRQAUUUUAFFFFABRRRQAUUUUAFFFFABRRRQAUUUUAFFFFABRRRQAUUUUAFFFFABXjPjj/lIX8L/%2ByM%2BPP/Tt4Qr2avGfHH/KQv4X/wDZGfHn/p28IUAezUUUUAFeRftRfFz4r%2BDvEvw8%2BEHwNufD1j4n%2BIfiW6sYtb8VaRPqFjpdpa6bdX00zWsFzbSXDsYIoVQTxgeeZCxEex/Xa8/%2BP37PmkfHqz8P3I8f%2BIvCOveE9cOreGfFfhRrT7dp1w1rPaS7Vvbe4t5Ukt7meNklhdfnDAB0R1APGfFH7c/xCT9ijwD%2B0NbWvhbwpqfifxHa6H4v8ReJIZ7vQPCEizz217fzqk1u8lotxbNDGzzQjNzC0jqA1ed%2BO/8Agq18QJP2I5fi58E9F8K%2BIviDZ3fib7bNJZ3Q0P8AsvQNUmsrvWREJhMLe78qBbaLzmYPqEZ3yxwTPX0t4Y/ZcX4dfBS0%2BBnwh%2BOvjXwlp2mWVnbaPqWmLpVze2IgH71w99YXCTyXLFnmedJSXdmTyyeOH%2BJf/BKj9iX4x/AdvgX8VPg5pHiJ2sL%2BBfG%2BvaHYX3iCKe%2Bupby8vI7y4t38qea6nmuGKIqeZKxVFGAAD3nxl418G/Dnwve%2BOPiF4t0zQdF02EzajrGs38dra2sYIBeSWVlRFyRyxA5rx7/gnT4n8NeNf2br7xh4N8Q2Or6Rqnxb%2BId3pmqaZdpcW13BJ4z1po5YpUJWRGUhgykgggg17Voeh6J4X0Sz8NeGtHtdO03TrWO20/T7G3WGC2gjUJHFHGgCoiqAoUAAAAAYFeR/sH/8kQ1z/ss3xH/9TXW6APZqiv7%2Bx0qxm1PU7yK3traJpbi4nkCJEiglmZjwoABJJ4AFS18f/wDBQbx14t/aV%2BKWh/8ABML4H65NaXniy0Gp/FzX7Jvm0HwwrAPDkfdmujiNVP8ACwDDbLuHHjsWsFh3UteTsorrKT0S%2Bb3fRJvocGZY6OX4V1bc0m1GMespvSMV6vd9IqTeiPMtK%2BOHhv4v%2BM/Gv/BYD43wS/8ACqvhJp97pXwJ0S6GwapcbvJn1VVYf6y4n2W8JI4zyAYgx91/4Jsfs4eLvAXgLUf2nP2gFa7%2BLvxbdNZ8YXlymH063YZtdLiU8xRwxFAU7NkEkImPNviR4F8JftNftj%2BBP2A/hrokNt8JP2frGx8Q%2BPbG1XNtPfqm3SdJb%2B8FUGZ1bIdS4b5lr7hrxcpwbq4uVao%2BbkbV%2Bkqr/iSXlFWpQ7JStrc/R1g58B8B0sqcv9uzLlxOKktGqL1w9HuozaeIlH%2BSOGTTCiiivpj4cKKKKACiiigAooooAKKKKACiiigAooooAKKKKACiiigAooooAKKKKACiiigAooooAKKKKACiiigAooooAK8Z/Zf/AOS3/tHf9lmsf/UK8L17NXjP7L//ACW/9o7/ALLNY/8AqFeF6APZqKKKACiiigAooooAKKKKACiiigAooooAKKKKACiiigAooooAKKKKACivIv2%2BviF40%2BFH7FHxT%2BJHw81mTTNZ0XwNqN1ZavDGGfTSsDbrxQwKkwLumG4Fcx8gjIrkf2TYH8L/ABU%2BNfwCsviT4m17wZ4XutGfSdT8SeMb3Vb3TZr3Skmu7QajdTSXBCqILpd8paP7d8hVPLVQD6Lrwz4keItD0r/go/8ACDRNS1WCC61T4O/ECPToJZArXLpqfhGRkQH7zBFZ8DnajHoprkf2JYfiH4B/al%2BMnwJ8ba3qUdlo%2Bi%2BGtW8PeHbz4l6r4wS2tLuXV4ftx1LVgLqGe4NltewwYYBaRyRySm4kK%2BW/8FAfg78U/wBrP9tLwF4Z%2BHnhXxP4B8afDb4c%2BMvEPwv8b6je6cbHVdTi1PwsoWNba7mnEDI7xSC5hh/1ykLIFZawxNSrSw8p0o80lrbv3S87Xt52XU5sZVr0MLOpRhzySuo7N2tdLzte3d2XU%2B86%2BSv2Fv8AikP28v2sfhSfkSPxdoPiK3Ts/wDaOnGSRh6/NGAfevTf2Gf2utO/a6%2BET67q%2BhtoHjXw3evo/wAQvCNwCs2jarFlZEKk58tyC0bc5GVzuRgPJbPxHovwU/4LR6zp3i3UE0u0%2BLfwhsDoV1dgpDqOq2N28RtY3I2tMIMvtznBXuyg%2BTi8TQrPB4um/d50r%2BU4zjr296yaez0ep%2BieHlennWQ53h8N76rYN1IpJ3bw9ehWem94w9rdWuuWd0uWVvsKiiivdPhAooooAKKKKACiiigAooooAKKKKACiiigAooooAKKKKACiiigAooooAKKKKACiiigAooooAKKKKACiiigAooooAK8Z8cf8pC/hf/2Rnx5/6dvCFezV4z44/wCUhfwv/wCyM%2BPP/Tt4QoA9mooooAKKKKACiiigArxn9g//AJIhrn/ZZviP/wCprrdezV4z%2Bwf/AMkQ1z/ss3xH/wDU11ugD0z4keOtD%2BF3w8174meJpfL03w7o11qeoPnG2CCJpXP/AHyhr4g/ZR%2BIenfsg/8ABOvxX/wUp%2BOMP9pfEX4qh/EupvOf3moTTyNHpGmw45WHy3hKqAdiyuR8qgD1D/gsR4t1u3/Y9b4JeDrny/EHxc8W6V4J0Xbyd15cAy8DqpgjlU9hvri77wlon7WP7dvhX9mfwpbb/hJ%2By7Y2V7rcI5g1DxIIfL0%2BzP8AC4tYlLnHRvMRhyK%2BYzPEVJZkoUtZxiow8qlW/vW/uU4yk/J2%2B0erwRkmB4g44liMyTeBy6i69e2l03pTT6VK1oUIdV7acl8LPXv%2BCcH7NfiT9nj9ntNT%2BKkrXPxF8e6lL4o%2BIuoTAeZJqd2d5hJ7CFSse0fLuVyMbq9/oor38LhqeDw0KNPaKt5%2Bbfm3dt92ys%2BzrG8R51iMzxbXtK0nJ20ir6KMV0jCKjCCWijCK6BRRRXQeQFFFFABRRRQAUUUUAFFFFABRRRQAUUUUAFFFFABRRRQAUUUUAFFFFABRRRQAUUUUAFFFFABRRRQAUUUUAFeM/sv/wDJb/2jv%2ByzWP8A6hXhevZq8Z/Zf/5Lf%2B0d/wBlmsf/AFCvC9AHs1FFFABRRRQAUUUUAFFFFABRRRQAUUUUAFFFFABRRRQAUUUUAFFFFAEV7ZWepWcunajaRXFvcRNHPBNGHSRGGGVlPBBBIIPBBrjPB/7Mv7N3w88MweC/AH7PngfQ9Gtftf2bSdH8J2dtbRfak8u52xRxhF85AFkwPnUYbIruKKAOV%2BE3wJ%2BCHwD0W48N/Ar4N%2BFPBenXdx9ou7Dwl4ettNhml2hfMdLdEVm2gDcRnAA7Vwfjj/lIX8L/APsjPjz/ANO3hCvZq8Z8cf8AKQv4X/8AZGfHn/p28IUAeQftv/DTxv8AsnfGOH/gpp%2Bzn4fnvvsVoln8bfB9iP8AkYNDTA%2B3ovQ3Vqo3Bj1ReSFVw/rHxp%2BDH7Pn/BSf9mTTpYdd%2B1aVrFtDrHgnxjo77LvSLsDdDd278NHIjcMhweGRsHp7XNDDcQvb3ESyRyKVdHXIYHggg9RXw0U%2BIn/BIX4i%2BIdT0X4c6v4n/Zn8S6gdUaPQE%2B0Xfw6vJCTcYt/vPp7H5/l4j5/iz53z%2BLo0sDObqRvh6t%2BdWuoSf27L7MvtW%2BGSU9Pea8vBZnmHBOeQzbAVJU483O5RvelUX/LxWT9ye1RWcb%2B9KLjOon6D%2Bxj%2B1j8TNH%2BItx%2Bwp%2B2w8Nn8V9BtTLoHiBV2WfjnS1ztvrYnA88Kp82Ic5VmAG2RU%2Bpq%2Be/jx8Ff2f8A/gpn%2Bz/pPjH4Y/Ey2N9YzDU/h18SPDNxuudD1BMFXRlIZRuVVlgbaflwQrorLk/sW/tqeJvFnii9/ZF/a/trLwz8bPCyBLq1Mix2viu1wfL1PTycCRXVSzxqMoQx2qAVTXCYqWDqRw1efNCX8Ope/MukZPbnS2f21r8Saf65m2XZbxnlM%2BI8hpxjUglLFYentC//ADE0Er3w02/fgr/Vpyt/AnTnD6aooor2z83CiiigAooooAKKKKACiiigAooooAKKKKACiiigAooooAKKKKACiiigAooooAKKKKACiiigAooooAKKKKACvGfHH/KQv4X/APZGfHn/AKdvCFezV4z44/5SF/C//sjPjz/07eEKAPZqKKKACiiuf%2BJvxY%2BFnwU8IzfED4y/Evw/4S0G2kSO41vxPrMFhaRO7BUVpp3VFLMQACeScCgDoKK57xX8W/hV4D%2BHzfFrxx8TfD2jeFUtorh/E2ra1Bb6esMpURSG4kcRhXLoFbdhtwxnIrB8SftXfst%2BDdN8N6z4v/aU8AaVZ%2BMo1k8IXepeMbGCLXEbZtazZ5QLkHzI8GMtnevqKAO/rxn9g/8A5Ihrn/ZZviP/AOprrdezV4z%2Bwf8A8kQ1z/ss3xH/APU11ugDwT9uD4laXqX/AAUH8FQavtm0D4AfCzX/AIn%2BJISf3clyYmtrONj2kVk8xR1IfvXpX/BI74VXnw5/Ya8KeKfEsZl8S/EEz%2BMPFOpSj99f3eoyGdJZCeS3kNAv/Afc18X/ABt8Q6t8a/BH7QnxT0C6Yal8fvjxonwh8DXC8n%2BzrCRI3liH/PKZUl3dsg5wa/Vrw14e0nwl4c0/wpoNqILHTLKK0soF6RxRoERR9FUCvk8n/wBszarinsrtf9vy5Y/%2BU6X3S89fp8mbwHhRLE7TzXG1KnrQwUFRpL/C61Scl0vG9rpMu0UUV9YfMBRRRQAUUUUAFFFFABRRRQAUUUUAFFFFABRRRQAUUUUAFFFFABRRRQAUUUUAFFFFABRRRQAUUUUAFFFFABRRRQAV4z%2By/wD8lv8A2jv%2ByzWP/qFeF69mrxn9l/8A5Lf%2B0d/2Wax/9QrwvQB7NRRRQAUUUUAFFFFABRRRQAUUUUAFFFFABRRRQAUUUUAFFFFABRRRQBx37Qfxm0L9nf4HeLPjn4k0y6vrPwpoFzqUmn2O3z7xooyyW8W4hfMkYLGu4gbnGSBk1ynwM/aG%2BJXxIn8d/D/4i/B7TPD3j/wJJbfa/D2keLW1KwvorqzFxaSw3slpbNtdhLC%2B%2BBSkkEmN6bHbq/2hPgzof7RPwN8WfAzxJql1YWfivQLnTZNQsdvn2bSxlUuI9wK%2BZGxWRdwI3IMgjIrhPhB%2Bzl8dfh1rPjD4j%2BKPjx4Z1rxr43ZP7Y1i3%2BH89pZQJa2IttPit7Q6lIyJFJ5txKHmkaZriRVaBdgUA0P2e/2h/iH8SPif41%2BB/wAYvhXo3hnxT4KsNI1C8HhjxdJrenTW2oi78lRcS2VnIlwhs5TJC0PypJA4dhKMVfHH/KQv4X/9kZ8ef%2BnbwhUH7EP7Mvxa/Zf8F6v4Z%2BLXxj8N%2BO9S1nUhqmp%2BKNL8D3Gkajq2pSAi6vL95tSvFuHcLAkaRLBHbxQLFGnlrGkeLf8Awj%2BFHgb/AIKbeC/Hvgn4Y%2BHtH13xP8HvHEviXWtK0WC3u9WePVvCXltczRoHnK73wXLEbjjqaAPoekkjSVGilQMrAhlYZBHoaWigD5G%2BK3/BPn4gfBHx1fftG/8ABNDxhZ%2BB/Et3J9o8R/DfUFJ8MeKCOSGgUgWc5GQJI9o7fu9zueVv/ip%2Bxl/wUhVP2dv2zfh3c/Cr40eH5VFpo%2BtXq2GsaddE5S40jUMAXUbMu5QuQ20MY2UKx%2B4688/aG/ZP/Z0/as8Nf8Ir%2B0B8JdI8SW6IVtbi7g23VpnqYLhCssJ/3GGe%2Ba8PE5RyxksMo8svipyV6cvNW1hLzjpfVxvqcOXf21wvmcMy4dxDw9WL5uVOUY3e7i46029VKylTkm1OnJN3%2Bbovjz%2B2J/wTflXRf2vbS/8Ai18IoWCWnxe0CwL6xocPRRq9quTKijGbhMnAyxd3CD60%2BF/xV%2BG/xr8EWXxI%2BE3jbTvEGhajHvs9T0u5EsT%2BqkjlWB4ZGwynIIBGK%2BV5v2RP27/2RYmn/Ys/aJT4h%2BEYlIPwq%2BMcxuGSLvFZ6muHTj5UjkxGo%2B8Wr5ov/H/wg%2BEnxTu/EXgzxX4z/Ym%2BKupSh9V8I%2BJ9FN/4I8RTDq6mNDb7Tyvnr5aryVUtknzI5jisokoVoy5P5ZtXX%2BCr8E12jUcJ9pPY%2B9/1s4K4ufJxBBZRmD/5fKDeCrv/AKeRpJqhN/8APylFU5PWeHg7s/V%2BiviT4f8A/BVXx58K9It7v9tv4P2g8NyOI4PjP8IL3%2B3/AArc9P3kvkl5rMHsrbmP90Cvrf4V/GH4V/HHwjB48%2BD3xC0jxLo9xxHqGjX6TxhsZKNtJ2OO6Nhh0IFfQYPM8Fjny0pe9u4vSS%2BT6ea5l5nPnfB%2Bf5DhoYuvTVTDT%2BCvSlGtQn/hrU3KF/7svZzXWCOkooorvPmAooooAKKKKACiiigAooooAKKKKACiiigAooooAKKKKACiiigAooooAKKKKACiiigAooooAK8Z8cf8pC/hf/2Rnx5/6dvCFezV4z44/wCUhfwv/wCyM%2BPP/Tt4QoA9mooooAK8C/bSTU/DXxH%2BCvxqvvBXiDxB4Y8E%2BPL678R2nhjw3d6xd2X2jQtSs7e%2BWys4pbicJLcCE%2BVG7ILveQEV2X32igD4m8K/DLVtB/4J%2B/DXRPF1v4t8H%2BKPhfr2neJdG0%2BL4Uat4lXSnkluWstPm02wQSX0cFpdC3kS1kzbPEreZGYga891Fvi74A/YgsP2WPiZ8MPHd1qXxz8Q%2BOZfEvjHTPg1q2qL4S8LarrV7eSCSy062umtb2e2vY1t7GUkQSSMZmcWrLL%2BjdFAHP6hpniJ/hsNK%2BFGtWekagNMjj0W98R6NcXsVvhVCGe28%2B3mkwowUMsb56kEEV8wfDL4yeIf2Z/%2BCYnxN%2BMnjPXtPu9e8NeMvidM9/p2nvZ2t1qf/CYa3HEYoJJpmhR7hkCo0shUMAXcjJ%2Bv6/N745M3xU%2BBHw6/YstDvPxZ/a38dJrdsOfM0TTvG2tXl8cd9u2BvTiuDNK88Nl9ScPitaP%2BKVox/GS%2B48vOsTUwmVVqlP47Wj/ik1CP/k0l9xX/AGZvgnLo/wAcv2RP2Srq3Yn4bfDPUvid40tnGSdR1BvLh8wn%2BOK6mkxnnHtiv0pr5G/YUC/GD9t/9pT9pxgJLKy8T2XgDw7IB8sUelwD7YqHurzyI/HGRX1zXDw/QhSwkpQ2lJpf4YWpx/CDfzP03jfDU8lhlfD1LSOAweHptf8ATypH6zVv581eCfnG3YKKKK90%2BGCiiigAooooAKKKKACiiigAooooAKKKKACiiigAooooAKKKKACiiigAooooAKKKKACiiigAooooAKKKKACiiigArxn9l/8A5Lf%2B0d/2Wax/9QrwvXs1eM/sv/8AJb/2jv8Ass1j/wCoV4XoA9mooooAKKKKACiiigAooooAKKKKACiiigAooooAKKKKACiiigAooooAKKjvb2z06zl1DULuKC3giaSeeaQKkaKMszMeAAASSelc98NPjR8HfjR4OPxE%2BDvxY8NeLPD6yyRNrvhrXbe/sw8f%2BsXzoHZMrn5hnI70AdLXjPjj/lIX8L/%2ByM%2BPP/Tt4Qr0P4WfGL4R/HLwr/wnXwT%2BKfhzxjon2qW1/tjwtrlvqFr58TbZIvNgd03o3DLnKnggV5544/5SF/C//sjPjz/07eEKAPZqKKKACiiigArO8VeEPCfjrRJvDPjbwxp2sabcri40/VbKO4glHo0cgKt%2BIrRopNKSs1dClGMotSV0z5X%2BIH/BHj9j3XNXuPF/watPEnwk8QXCFX1j4X%2BIJdMDjn5Gt/mgKckFVjXIJGa%2BVvHf/BE39t/4ReM5viT%2ByT%2B1BoP9ps4eTUbOOfwtqU0a5IhYWIe0nJJ%2BZ5YwXydx5r9UaK8LF8NZPi9fZ8j3Tg3Bp91bS/mkisnq43hqvOtkmIqYSU1afsZuEZrtUpWnRqLyqUJr0PzJ8Hftk/8ABcb9kpl079qD9i65%2BKeh25%2BfVvDkMUl95Y/i83TRKmAOT5lurHHJHWvbfhH/AMF0/wBhHx3OPD/xQ8Q678MvEEcixXOieONCmiMcnf8AfQrJGqj1kMZ9hX2TXPfEH4SfCn4t6cuj/FX4Y%2BHvE1opytr4h0WC9jH0WZGFTSyzNsErYfFua7VYqX/k0XGX33Kx%2BYZxj5c9V0ZS6y9hGlJ%2BvsJQpt%2BfsY/eUfhz%2B0F8BvjCu74S/Gzwl4n9R4e8R214R9RC7Yrr6%2BQ/jR/wQ1/4J0/GCSfUbD4R3XgzUpnL/wBo%2BCdVks/Lbtst38y3TB7LEK8N8S/8EXP26PhEzTfscf8ABTbxXZ2qc22ieI9Wv7SJAOis9tJJHJ/34H0oq4/PcL/EwiqLvTmr/wDgM1F/iwwOAzLF%2B77XDqXadSpR/wDJqlGpD75L5H6XUV%2BUmpH/AIOKP2d7wnVNd1PxdolunzXGj6Vo3iB5mHpGRb3eMVW0r/gtN%2B3T8PL5PD/xy0f4YaFeFtsen%2BPvBviTQNQc9w5VJrZPruArlfFuCpO2Jo1aT/vQ0%2B%2B9vxPejwXx5Uhz4fKquJjvfCzw%2BM09MNiJ1F53oq3Wx%2BslFfAPw1/4K2/tT%2BOjHF4Z/ZK%2BGnjgvjcPBH7RGjC4H/bpOPOyfQgGvSP%2BHlfx18O/8lF/4JZfHW2K/f8A%2BEZ0y21gD6GKRN1ehS4gyutHmjKVu/JO33qMl%2BJ8hjsf/ZNf2OY0K%2BHn/LVw9em/unRX4XXmfW1FfJX/AA%2BJ%2BBelf8lB/Zy%2BO3hLH%2Bs/4SP4V3Mez6%2BU0lT6f/wW3/4Jo3U/2LU/2hZtJuh9611fwfq0Dr9SbXb%2BtarPMnvZ4iK9Xy/%2BlKJxriTIL2eKgv8AE%2BX/ANKUT6uor580X/gq3/wTn1/H2H9r3wdHu6fbb1rb/wBHKuK63Rv27P2JfEOBov7X/wAMbhm6Rx%2BO9P3/APfPnZH5V0QzLLqnwVoP/t%2BP/wAkdVPN8pq/BiKb9Jw/%2BSPVqK5TR/jt8D/EWP8AhH/jJ4Uvt33fsfiK2lz/AN8ua6azv7HUYRcafewzxnpJDIGH5iuqNSnU%2BGSfo0/ybOyFWlU%2BCSfo0/ybJaKKKs0CiiigAooooAKKKKACiiigAooooAKKKKACvGfHH/KQv4X/APZGfHn/AKdvCFezV4z44/5SF/C//sjPjz/07eEKAPZqKKKACiiigAooooAK/Lr9lj4i6fqX7ZHxi%2BOfiBPM8Pfsw2fxKldH6Jq2o%2BMNevGZT6tZRmPA5zj6V%2BotflB4m%2BG%2BsfD79hz43%2BG9IfyvFH7TP7Z/ijw1pE6jMgtW8W3tsqEDquyzu%2Bvaf3FeHn0qkMJGpHaDc35uMXyL51JQ%2B49Hh7hz/W3jLKcqm7UqmJpuq%2B1OHNObfkoxnJ/4b9D7L/4JG/DbVPh5%2BwN4H1HxLufWvGENx4q1q5cYa4m1GZ7lHb38l4R/wGvpSqPhnw7pPhDw3p/hPQLUQWGl2MVpZQr0jhjQIi/gqgVer0sFhlg8HToL7MUvuSu/m7v5nZxPnU%2BI%2BJMbms1Z16tSpbspTk4x/wC3Y8kbbLlstLBRRRXUeEFFFFABRRRQAUUUUAFFFFABRRRQAUUUUAFFFFABRRRQAUUUUAFFFFABRRRQAUUUUAFFFFABRRRQAUUUUAFFFFABXjP7L/8AyW/9o7/ss1j/AOoV4Xr2avGf2X/%2BS3/tHf8AZZrH/wBQrwvQB7NRRRQAUUUUAFFFFABRRRQAUUUUAFFFFABRRRQAUUUUAFFFFABRRRQB5F%2B338PvGnxW/Yo%2BKfw4%2BHmjS6nrOs%2BBtRtbLSIHCvqZaBt1mpYhQZ13QjcQv7zkgZNcR%2ByZ4gh8RfHr4r/Fey%2BGvjDw/wCFfHmoaTF4es/EXgHU9LlvZ7DSY47y8ltrm3R7VWU29qjTrGZjYkR70CFvpSigD5k/4JreNNN8RWfxZ06w%2BHXjjw7FJ8WdV1fTYvGHwz1rw6lxp92y/Z5LcalaW4lBEL5SPLR/LvCb03al/pvxXtP%2BCm3gu88beNPD2oaFcfB7xwfDWnaV4Yns7uwQat4S8xbm5kvZkuycpgpDbhdpyG3Db9D14z44/wCUhfwv/wCyM%2BPP/Tt4QoA9mooooAKKKKACiiigAooooAKKKKACiiigAqvqmk6VrljJpet6Zb3ltKMS291Cskbj0KsCDViik0mrMcZShJSi7NdjxD4lf8E2P2Cfi35j%2BN/2TvBMks2fNutN0ZLCdz6mW18tyfcnNecD/gjr8CfCXP7P/wAfPjP8L1T/AFNr4L%2BJNyluvoDHcCUsvsWr62orzquT5VWlzSoxv3S5X98eV/ifZ4HxG49y6h7Cjmdb2f8AJObqw/8AAKyrw/8AJfuPkn/hjL/goz4CO/4Sf8FStR1C3T7ml%2BP/AId2OoeZ6brpWWUfgOagv/8Ah834Wh%2ByeI/AX7PXxKsU%2B6La41HTbuUf7QnBhBPtX17RWbyejH%2BFVqQ9Kkmvunzo7H4iZhiVbMMBgsR3c8JSjJ/9vUHh5X87NnwzrXxU/aAsNy/Hr/ghfYalEP8AWXvhbW9E1vzR3IhMQcfQnNcjrPx2/wCCYKkj46f8Ei/FngeQf6%2B5179nm3ij9yJbZWLD3xX6KUVzzyas9qyl/jpUpfioxZyVM48O8f8A79w1Rv3o169P/wAlqRxMfxsfmvp3in/g24%2BI85s59C8DaXcZ2y2%2BoaFqukNG3oSyRKPwOK6zw7%2Bwn/wQI%2BIsq3Xw/wBZ8ASXD9P7E%2BMd0kq%2B3li/yp9itfcvin4f%2BA/HEH2bxr4J0jWI8Y8vVNNiuFx6YkU15d4u/wCCc37Bfjhnk8Q/sg/DxpH%2B/NZ%2BFra1kY%2BpeBEYn3zXLLJKvWjh5%2BtOUX%2BHMjjnkngZjdamXYqg/L6lXS/8CpUJfc7nlOlf8EdP2HdStRf/AA%2B8VePrKA/cm0D4n3zIPoTK4qz/AMOg/hla8eH/ANsP9ovSAPurpvxZmUD6bomq1qv/AART/wCCcN5dnU9C%2BBd3oF4el54f8Xapauv0UXBQf981W/4dG%2BCNE%2Bb4Z/tp/tFeEwv%2Brg0b4pSGAexSWJ9w9s1H9luG%2BApv/BUa/NRM/wDULwYxH8DMKlL/AK%2BYKf54fGP77L0E/wCHVGsWfOif8FL/ANqSHHRbr4orOo/BrcUf8O1vjrZ8aL/wVM%2BOsYHT7dqdtc/%2BhRjNL/wwB%2B2V4c/5Jv8A8FY/iNa7f9X/AMJP4X0/WcfXzdm6j/hQ3/BX/wAL8aF%2B3v8AD7xTt%2B6fE3wtSx3/AF%2ByOcfhR9VoQ%2BLA1F/hqX/Kun%2BAf8Qr4Grf7rnmG9JvH0X/AOTQqRX/AIEH/Dv/APbJtP8AkD/8FY/iQmOn23wxp9x/6EBmk/4Yl/4KM2vGl/8ABXnXEHb7X8IdInP6uKX7d/wW98M/8fOh/s2eJ4V6fZLnW7K4f678xj8KP%2BGkf%2BCtnhvjXP8Agmz4U8R7fvP4d%2BMNpaZ9wLqMmjlyyPxUsRH/AMHf%2B21JB/xBqnU/3XMcJU/w5lyf%2BnZURP8AhkT/AIKnW3/Hr/wV6jmHZbn4B6MP1EuaP%2BGZP%2BCtFr/qP%2BCnvhy6/wCvn4LWCZ/74kpf%2BHgH7ZGhf8j5/wAEnfiPb7fv/wDCP%2BJ9P1XH08vbmj/h7BBpHyeOf%2BCe37TGjEffnf4XmaAfSSOc5/KjnyNb1asfWWIX5xYf8QP4pl/Apyqf9e8fRqfljbv5Jif8KH/4LA2v%2Bo/b1%2BHl1j/n5%2BFyJn/vh6P%2BFU/8FmrfiH9rD4OXI9bjwJcoT/3y1L/w%2Bi/Y303/AJHbSfiP4Zx9/wDt34cahHs%2BvlxvWhov/BaX/gmTrrCO2/alsYHzhkv/AA9qdsVPofNtlFNVcgbssbJetaS/9KsRU8DvEOnHmWW49rvH20198Par8TO/4QH/AILVwf6v4/8AwFn/AOu3hXUVz/3y1H/CLf8ABbuH/V/FT9nGb/rromsr/wCgmvQNE/4Kcf8ABPjxBj7B%2B2J4Bj3dPtviGK2/9HFcV1%2Bi/thfsk%2BJQD4d/ak%2BHN/u%2B79i8b2Euf8AvmU11Qo5bU%2BDGSfpXR4eK8NeKcF/Hw2Oh/ijiF%2BLw9vxPEP7I/4Ljxfc8X/swy/9dLDX1/lR5H/BdOPhL79lGT3kj8Sj%2BVfTejfEf4eeI8f8I9480W/3fd%2BxapDLn/vljW0CCMg10xyyEleOIq/Kpf8A9tZ4dXh2rQly1K%2BIi%2BzqST%2B50kz5L83/AILqJ961/ZQf/cfxKP51T%2BCk/wC3PN/wUL8GD9tKx%2BFcOPgz4y/4Ro/DOTUW3f8AE28K/aPtP23p/wAsNmz/AKaZ/hr7Arxnxx/ykL%2BF/wD2Rnx5/wCnbwhW9DL/AGFVT9tUlbpKd181yr8ysNlf1asqn1irK3SU%2BaL9VyL89z2aiiivQPUCiivMf2j/AI8%2BLfhHe%2BDfA/wu%2BHVh4q8YePPEEumaBpWseIX0qxjWCxub24ubm6jtrl4o0itio2QSM0ssS4VSzoAenUV8/wCo/tzPf/s2/Dr40%2BAfhat1r3xL8Q2Xh7R/DOv6%2BLC20/VpTMs8F5exwz%2BWkL2txHvjhlMkioiKTItcXP8A8FNPEviTwZZX3wa%2BAGn%2BKfEljpHi7UvG%2Bhjx0Le30yLw3qY0vUIrS7FnJ9unmutwtVeO3SWNGeWS24UgH1pX5wfB/wD4vV%2B3P8KfgjH%2B9sPh18QPi94/12Acgu/jbWrGxY%2BjJNlh3%2Bav0M8E%2BMNB%2BIXgzSPH3ha6M%2Bma5plvqGnTlCpkgmjWSNsHplWBxXwh/wAEbvAuo67%2B0z%2B1X8etaBkhtvjl4n8IeH3Yf6iK38QaneXSD2aW7ib6ivLzSMqzoUFtKpG/pC8397jFH3nAtellsczzSTtKhhKqp/8AXzEOGFjbzjGrWl8rrY/QKiiivUPgwooooAKKKKACiiigAooooAKKKKACiiigAooooAKKKKACiiigAooooAKKKKACiiigAooooAKKKKACiiigAooooAKKKKACvGf2X/8Akt/7R3/ZZrH/ANQrwvXs1eM/sv8A/Jb/ANo7/ss1j/6hXhegD2aiiigAooooAKKKKACiiigAooooAKKKKACiiigAooooAKKKKACiiigAooooAK8Z8cf8pC/hf/2Rnx5/6dvCFezV84ftH6v8a9H/AG8PhPP8Dvh/4W8Rak3wj8drd2nivxhc6LBHB/anhIl0lt9PvWd920bDGowSd%2BQFIB9H0V4z/wAJx/wUL/6Nf%2BDP/h%2BNW/8AmXo/4Tj/AIKF/wDRr/wZ/wDD8at/8y9AHs1FeM/8Jx/wUL/6Nf8Agz/4fjVv/mXo/wCE4/4KF/8ARr/wZ/8AD8at/wDMvQB7NRXzjq37R37duj/GfQPgdcfsofCRtU8ReF9X12zuU%2BOuqeRHBp1zptvMjk%2BGNwdm1SAqApBCSZKkKG6j/hOP%2BChf/Rr/AMGf/D8at/8AMvQB7NRXjP8AwnH/AAUL/wCjX/gz/wCH41b/AOZej/hOP%2BChf/Rr/wAGf/D8at/8y9AHs1FeM/8ACcf8FC/%2BjX/gz/4fjVv/AJl65fVv2jv27dH%2BM%2BgfA64/ZQ%2BEjap4i8L6vrtncp8ddU8iODTrnTbeZHJ8Mbg7NqkBUBSCEkyVIUMAfR1FeM/8Jx/wUL/6Nf8Agz/4fjVv/mXo/wCE4/4KF/8ARr/wZ/8AD8at/wDMvQB7NRXjP/Ccf8FC/wDo1/4M/wDh%2BNW/%2BZej/hOP%2BChf/Rr/AMGf/D8at/8AMvQB7NRXzjq37R37duj/ABn0D4HXH7KHwkbVPEXhfV9ds7lPjrqnkRwadc6bbzI5PhjcHZtUgKgKQQkmSpChuo/4Tj/goX/0a/8ABn/w/Grf/MvQB7NRXjP/AAnH/BQv/o1/4M/%2BH41b/wCZej/hOP8AgoX/ANGv/Bn/AMPxq3/zL0AezUV4z/wnH/BQv/o1/wCDP/h%2BNW/%2BZeuX1b9o79u3R/jPoHwOuP2UPhI2qeIvC%2Br67Z3KfHXVPIjg065023mRyfDG4OzapAVAUghJMlSFDAH0dRXjP/Ccf8FC/wDo1/4M/wDh%2BNW/%2BZej/hOP%2BChf/Rr/AMGf/D8at/8AMvQB7NRXjP8AwnH/AAUL/wCjX/gz/wCH41b/AOZej/hOP%2BChf/Rr/wAGf/D8at/8y9AHs1FfOOrftHft26P8Z9A%2BB1x%2Byh8JG1TxF4X1fXbO5T466p5EcGnXOm28yOT4Y3B2bVICoCkEJJkqQobqP%2BE4/wCChf8A0a/8Gf8Aw/Grf/MvQB7NRXjP/Ccf8FC/%2BjX/AIM/%2BH41b/5l6P8AhOP%2BChf/AEa/8Gf/AA/Grf8AzL0AezUV4z/wnH/BQv8A6Nf%2BDP8A4fjVv/mXrl9W/aO/bt0f4z6B8Drj9lD4SNqniLwvq%2Bu2dynx11TyI4NOudNt5kcnwxuDs2qQFQFIISTJUhQwB9HVn614R8KeJFKeIvDGnX4IwRe2Ucv/AKEDXlP/AAnH/BQv/o1/4M/%2BH41b/wCZej/hOP8AgoX/ANGv/Bn/AMPxq3/zL0mlJWaLp1KlKXNCTT7ptP700/xOn1v9k/8AZZ8S5/4SP9mrwBqG77323wbYy5/76iNchrX/AATW/wCCf%2BvZN9%2Bxx8Oo89fsXhW2tv8A0Sq4qx/wnH/BQv8A6Nf%2BDP8A4fjVv/mXo/4Tj/goX/0a/wDBn/w/Grf/ADL1zTwGBqfHSg/WMf8A5E9zDcV8VYL/AHfMK8P8NesvwVVL8Di9Z/4I3/8ABM/Xc/bv2UNGTd1%2Bx6nfW3/oqdcVi/8ADkn/AIJ7WJz4U%2BHXiTQcfd/sfx/qybfpvuGrptW/aO/bt0f4z6B8Drj9lD4SNqniLwvq%2Bu2dynx11TyI4NOudNt5kcnwxuDs2qQFQFIISTJUhQ3Uf8Jx/wAFC/8Ao1/4M/8Ah%2BNW/wDmXrllkeTSd3hof%2BApfkke5S8UfEqjHljnWKt2depJfdKUl%2BB5j/w55%2BBdj/yKv7RXx10LH3f7I%2BKdym36b1aqfwU/ZOT9l3/goX4Mjg/aO%2BKvj6LW/gz4y8uL4meL/wC1hpvk6t4V/wCPU%2BWnlCTzRv67vKj6ba9a/wCE4/4KF/8ARr/wZ/8AD8at/wDMvVDwP4H/AGrPGP7Vnhz43fG74cfD3wzo3hn4e%2BIdDhh8K/EO%2B1q6u7rUr7RLhGZLjSLFIo0TS5QWDuxaVAFxkjShlWXYaqqlKmotdnL8ua34HJmnH/GWd4GeDzDGyq052upRpNuzTXvewU1qltUV9ndXT91ooor0D48K8w/aQ%2BA3i74uXvg3xz8LfiLYeFfGHgPxBNqegarrHh59VsZVnsbmyuLa5tY7m1eWN4rkuNk8bLLFE2WUMj%2Bn0UAeCaf%2Bxx4j8O/snx/sraT4t8C6/YW9naxrL8R/ho2t2d/N5pnvp76yW/gS4ae4Z5kVGhWFmHEgUVwi/wDBMDVvBPw70Xwv8AvjxYeENYTwx4n0HxXqzeBUuLfULXXr5NQvZLO0iuoE0%2BWG5VvsnzTQwROY3inAUj62ooA5iP4NfDCT4SWvwJ1nwRpur%2BEbXRYNJ/sHW7KO8tprOGNY0iljlDLIoVF4YHOK8e/4JifCnwH8If2d/Efhv4deGrPSNOl%2BN/xFlTT9PtUgt7dU8X6tBHFFHGAscaQwxRqigBVjUDpX0RXyV%2ByV4s/bO0/4e%2BKLP4Y/AP4YavoSfGn4i/2fqOvfF3UdNu5l/wCEz1ksZLaLQLlIiG3AATPkAHIJ2hOMW030NI1akIShF2UrXXezur%2Bj19T61orxn/hOP%2BChf/Rr/wAGf/D8at/8y9H/AAnH/BQv/o1/4M/%2BH41b/wCZemZns1FeM/8ACcf8FC/%2BjX/gz/4fjVv/AJl6P%2BE4/wCChf8A0a/8Gf8Aw/Grf/MvQB7NRXzj8Iv2jv27fjL4Uu/F/hz9lD4SW1vZ%2BKNb0KSO9%2BOuqK5n0vVbrTJ3G3www2NNaSMhzkoykhTlR1H/AAnH/BQv/o1/4M/%2BH41b/wCZegD2aivGf%2BE4/wCChf8A0a/8Gf8Aw/Grf/MvR/wnH/BQv/o1/wCDP/h%2BNW/%2BZegD2aivGf8AhOP%2BChf/AEa/8Gf/AA/Grf8AzL1y/wAIv2jv27fjL4Uu/F/hz9lD4SW1vZ%2BKNb0KSO9%2BOuqK5n0vVbrTJ3G3www2NNaSMhzkoykhTlQAfR1FeM/8Jx/wUL/6Nf8Agz/4fjVv/mXo/wCE4/4KF/8ARr/wZ/8AD8at/wDMvQB7NRXjP/Ccf8FC/wDo1/4M/wDh%2BNW/%2BZej/hOP%2BChf/Rr/AMGf/D8at/8AMvQB7NRXzj8Iv2jv27fjL4Uu/F/hz9lD4SW1vZ%2BKNb0KSO9%2BOuqK5n0vVbrTJ3G3www2NNaSMhzkoykhTlR1H/Ccf8FC/wDo1/4M/wDh%2BNW/%2BZegD2aivGf%2BE4/4KF/9Gv8AwZ/8Pxq3/wAy9H/Ccf8ABQv/AKNf%2BDP/AIfjVv8A5l6APZqK8Z/4Tj/goX/0a/8ABn/w/Grf/MvXL/CL9o79u34y%2BFLvxf4c/ZQ%2BEltb2fijW9CkjvfjrqiuZ9L1W60ydxt8MMNjTWkjIc5KMpIU5UAH0dRXjP8AwnH/AAUL/wCjX/gz/wCH41b/AOZej/hOP%2BChf/Rr/wAGf/D8at/8y9AHs1FeM/8ACcf8FC/%2BjX/gz/4fjVv/AJl6P%2BE4/wCChf8A0a/8Gf8Aw/Grf/MvQB7NRXzj8Iv2jv27fjL4Uu/F/hz9lD4SW1vZ%2BKNb0KSO9%2BOuqK5n0vVbrTJ3G3www2NNaSMhzkoykhTlR1H/AAnH/BQv/o1/4M/%2BH41b/wCZegD2aivGf%2BE4/wCChf8A0a/8Gf8Aw/Grf/MvR/wnH/BQv/o1/wCDP/h%2BNW/%2BZegD2aivGf8AhOP%2BChf/AEa/8Gf/AA/Grf8AzL1y/gH9o79u34ieK/G/hDR/2UPhJDceA/FEWharJc/HXVAk88mlafqYeLb4YJKeTqMKksFO9HGMAMwB9HUV4z/wnH/BQv8A6Nf%2BDP8A4fjVv/mXo/4Tj/goX/0a/wDBn/w/Grf/ADL0AezUV4z/AMJx/wAFC/8Ao1/4M/8Ah%2BNW/wDmXo/4Tj/goX/0a/8ABn/w/Grf/MvQB7NRXzj4B/aO/bt%2BInivxv4Q0f8AZQ%2BEkNx4D8URaFqslz8ddUCTzyaVp%2Bph4tvhgkp5OowqSwU70cYwAzdR/wAJx/wUL/6Nf%2BDP/h%2BNW/8AmXoA9mrxn9l//kt/7R3/AGWax/8AUK8L0f8ACcf8FC/%2BjX/gz/4fjVv/AJl6t/srfDn40%2BD9Y%2BKHjv46aB4X0nVPH3xCi1yz0rwn4ludWt7W1i0HR9MVXuLiys2aRpNOlcqItoWRBuY5wAet0UUUAFFFFABRRRQAUUUUAFFFFABRRRQAUUUUAFFFFABRRRQAUUUUAFFFFAHmH7W3xk8ZfBj4YWF98NbPTJfEviTxhovhrQJNbgklsrW41C/htjdTxxSRvLHDHJJN5SyRmUxCMPHv3r5fN%2B1z8RfDv7L/AI7%2BKni/wh4Y1L4mfD3xndeBILmxsprbTb7ULnULO2sp1R5ZZ7e2m%2B1afNND5sjIUdRI%2BxXPtvx4%2BCXhr9oH4dS/DvxNrGp6Xt1Kx1PS9a0SaOO90vULK6iu7S7gaWOSPfHPDG22RHjcAo6OjMp4ew/Ya%2BHkXwU8QfArX/iJ4u1nS/FYvbrxFqGoXNkl9eavc3Zu21jzoLWPyruOXy/KEYS3iWGJUhAQUAX/ANlr4u/FHxzrHxE%2BFXxsn0C88T/DfxhDpF3rXhfSp7Cx1WC40ux1KC4S1nuLmS3YLemFozPLloC4YBwq%2Bt1wPwC/Z/0f4Cabrxj8c6/4r1zxXr51nxT4q8UNafbtUu/s1vaIzrZ29vbxrHbWttCqRQxqFhBILMzN31ABXPfFC1%2BKN74NuLX4OeJfD2j680kf2fU/FGiz6jZwR7wZGe3gubZ5Ts3BQJoxuIJOBg9DXn/7UX7Pun/tTfA7W/gPrXxK8UeFNP8AEEcUOp6p4PuLWK9ktllV5LbddW88ZimVTFKpjO%2BKR1yNxoA8b0n9qX45eLv%2BCfHiz9rHwZ4A0DxJ8QfD9l4ktfBV5oXhi9u7HxNFa38sFte2dnHM129reLawTrBHO5kGzZLKvlyN6r%2ByZ8YLv4z/AA1u9b1j4o6N4p1TTdbn0/V5NJ8Aal4Xk06dEjk%2ByXOmancz3VrOI5Y5CJWUsk0bhArKWn8NfAPxj4X%2BG/8Awruz/ah8dOYtK%2BxafrI0rw7Bc2OJA0csMcGkx2waNAIVRoWi8v70bN81WvgH%2Bz7onwEsfEUsHjfxB4o1vxf4hOt%2BKvFHieS2N7qd4LS2s0ZltIILeJUtrO2hVIYY1CxAkFmdmAO%2BooooA8p/bX%2BKvxe%2BCv7O2pfEL4F%2BHV1PxHBruhWkULeEb/XhBaXWsWdpe3X9n6fJHc3fkWk9xceXE6sfJ9AQeJ1r9qm50T9iqf8Aab0DxB4W8e%2BL7OZ9A03U7TwneaDarqt3q0WnR2lxY3c895YCK5a2S5hkl8zdbsSqHaie3fEnwfrvjvwjceG/DfxP17wdeTSRtF4g8NQ2Ml5b7XDEIt/bXMBDAFDvibhjja2GHmWnfsL/AA6g%2BC3iP4Ga58RPF%2BsaX4tN7d%2BIr7ULuzW9u9Xubr7U2riaC2j8m7SURmIRBLeIQxhYRtFAGh%2By18Xfij451j4ifCr42T6BeeJ/hv4wh0i71rwvpU9hY6rBcaXY6lBcJaz3FzJbsFvTC0Znly0BcMA4VfW64H4Bfs/6P8BNN14x%2BOdf8V654r186z4p8VeKGtPt2qXf2a3tEZ1s7e3t41jtrW2hVIoY1CwgkFmZm76gArC%2BJFh8SdS8I3Np8JPF2haHrrMhtdS8SeHptVs4lDguHtobu0dyU3AETLtJBIYDad2sD4reALf4r/C/xH8LrvxLquixeJNBu9Ll1jQpo476xW4heIz27yI6JMgfcjMjAMASpHFAHzZ4F/aZ/ae8V/8ABNjXv20IfCPhTxR8QhouvX/w1HhvwLfmHVdK%2B1uNMlWwW9nupPtltBaXTQQ3GW8yNVOVDV7H%2ByZ8YLv4z/DW71vWPijo3inVNN1ufT9Xk0nwBqXheTTp0SOT7Jc6ZqdzPdWs4jljkIlZSyTRuECspbal%2BC66V4Et/hx8M/iPr3gvSdN8NW%2BjaFb%2BHLfT2GlJBsEU0P2u0nBkWNFi2yB4tnWMt81VvgH%2Bz7onwEsfEUsHjfxB4o1vxf4hOt%2BKvFHieS2N7qd4LS2s0ZltIILeJUtrO2hVIYY1CxAkFmdmAO%2BooooA%2BYv2lv2w/jB%2Byx8b/GF14ztfDGr/AA60X9n3xZ8Q9M0zTtJuYNZSbQTpfmwzXb3LwyJN9um2qtuhTy0Jd8kV1X7NfxN%2BNes/G3xb8DP2m7PwZfeM/CPhHQtftNf8GaJcWVt/Z2sy38Js9lzc3Mm%2BO50S43SCQLMggby4yCoPjH%2Bwr4d%2BOnx1b4y%2BPPjt45l02bwVqfhG%2B%2BHsMGi/2Jd6NqS232%2B0kL6a16RO1pA7OLoOpQhGRGZDr/BX9kix%2BCkmq63bfHTx14j8Sa0%2BkQ6l4u8TzabNqE2m6azG20v91ZRwi2xLdBmEXnsbyd/OEjLIoB5z8Bv2xvjb8QPjF4Wk8baZ4WXwH8TNa8XaZ4Ks9L025i1XS5NFu5YoZLy4e5eK6W7t7a5mKxwwG3by48z5Mg%2Boq8Z%2BFv7EPw4%2BFHxh/wCFs6T458VahBZXWt3Xhfwjql1atpXhyfV7sXepS2ax26TlpptxHnzTCFZZI4RFG5SvZqACvCvE3xa/aS0n9tg/ADTtT8Dv4a8SfCbXPEHg/wA/QLwX1hqen3Oj2q/bJxeeXcW7vqUjGOOGJ1WJf3jFjj3WvEfip%2BxjqnxN/aDj/aKsf2tvif4X1G18H6j4b03R/DcXh8WVjZ3wtmuGia50ma480zWdrOrtM22SEAARs8bADP2VPiv8T/iP8TPiN4F%2BLl14O8S3/wAONWttItfHngzw5cabaXEtzaxXN3p3k3F3ePHNbstuZdlwyt5kQKo8bKOa/ZT/AGp/i78Tf2gPF3wv%2BOfifRNBubPX/FFv4U8CzfCfW9GvrzTNP1p7S11KHVr67a01aN7QW8sgtIAFa8iJZANr9t%2BzN%2ByK37LfwntPg34Q/aJ8daxpOn3VrLp8mvWehfaIUjnM1xG0lrpkHnm7Zn%2B0TzCS4dpHkWVJWMlXPDn7LUFj8crb48%2BO/jf418ZX%2BkQ6jD4U0nxCdMjsfD8d68ZnFutjZW8kp2RJEr3Uk7qgIDZd2YA9UooooA%2Bdvi/%2B0B%2B0t8Nf2o9Z%2BGWkWnhPWPDt98EfEni3wbpdr4evDqyanpUukwrDcTLdmO5imk1GTEUUEbgRoPMYscX/ANhT45eJv2gPBs/iH4ueL/D%2BoeOdHt7ePWNFs/hTq3hLUPDguoIpmtZ7TV7qe5ZHePKzjy4pRCNobZkafxC/Y91Px5%2B0pZ/tNWX7VfxJ8P6hp3hW/wDD%2Bm%2BH9Et/D5062s7w2r3G37TpU1yXaaytZwzTtteLC4jZo20vhX%2By0nww13X/AB1cfHbxt4j8W%2BJ7jShrfi/xAulfa7ix0%2BSR4NOEVrYQ2sVt%2B/ulYxwLMftcrCVX2OgB5l8Bv2xvjb8QPjF4Wk8baZ4WXwH8TNa8XaZ4Ks9L025i1XS5NFu5YoZLy4e5eK6W7t7a5mKxwwG3by48z5Mg%2Boq8Z%2BFv7EPw4%2BFHxh/4WzpPjnxVqEFlda3deF/COqXVq2leHJ9Xuxd6lLZrHbpOWmm3EefNMIVlkjhEUblK9moAK8N1/wCK/wC0Xp37b6/s%2BW%2Bu%2BCo/C3ib4Ua3r/hOZ/DN5JqGm6jYXWj2oa7kF8kd3A76nI3kxxwOFhUedliR7lXkniL9lG68Q/tZ6L%2B1p/w0d49s7rQtButFs/Blpb6IdGaxuntJbmFzJprXh82axtpSwug6tGQjIjMhAOc/Y6%2BJXx6%2BKfxM%2BKlr8a9a8B%2BILH4f%2BKYvC3hjxP4R8FXWjyXU4s7a61RStzqN8WiSaW3t/kdP3tnMGDbVIx/2U/2p/i78Tf2gPF3wv%2BOfifRNBubPX/FFv4U8CzfCfW9GvrzTNP1p7S11KHVr67a01aN7QW8sgtIAFa8iJZANr%2Br/AAj/AGfNC%2BCHwstPhX8P/GmvQRw%2BIbnWr/WbhrWa%2B1O6utSk1G9Nwz25jP2maaZZCkaMElPltGwV1yvDn7LUFj8crb48%2BO/jf418ZX%2BkQ6jD4U0nxCdMjsfD8d68ZnFutjZW8kp2RJEr3Uk7qgIDZd2YA9UooooAKKKKACiiigAooooA%2BXf2mv2xvjb8K/in4xf4eaZ4Wbwb8JtF8N6n47ttZ025m1HWI9UvriKaOxmjuY47Rra1t/PDSRXAnklEWIQpkLv2v/2ofjN8CvEnivQP2efDng6Kz%2BG3wpvviV40ttf0qeV9ZhNzcsun2bW9xCtpPObO/d7uVZ1VzETC%2B9mHdfGf9iH4cfG74pH4ma5458VaXFqNrpFr4v8ADWjXVqmneKYNLvZL2xivllt5Jgsc00ufs8sBljkMUxljCoKfx0/YR8FftBtFN42%2BMHji2mu/C934Y8Xz6RcadA3ivQrmYSyaZfD7EVWL76LJbC3nRJpQso8xyQD2rSdTtdb0q11mxZjBd26TQllwSjqGGR24NWKbHHHDGsMMaoiKAqqMAAdABTqACvB/2tfjN%2B0F8BvEnhfxd4M8QeCL3w9rXi7QvDtt4FvvDl5JrmuXN7fLDctaXsd6sUJgtWkutjWkw8u0mZ3jQF4/eK8Z%2BJP7HK/ET9p3RP2prf8AaO%2BIGhar4f0MaVpmgaZDolxpcEDzebctGl9plxNDLcgRxzSxSo7RwxorIByAcT%2B1t%2B0r8TP2cPjd4U8JeHtX8PeB/hve%2BHtT1jxb431r4Razr1hZ3ov7UCKe6067trfSllS4u5nurslMxlifvZ%2BnK8g%2BOn7JN1%2B0J4Jl%2BGPjz9pb4hxeGNU0e40nxdoOmLosMXiSynLiaG5l/s0zwhonaAtaSW7eWeu/569ejjSJFiiQKqgBVUYAHpQAtFFFAHzT8cf2p/i78MP20tM%2BE%2BreJ9E8H/DSXQPDtwPEuu/CfW9Vh1bU77VNQtJ9NGs213DYaTII7exWI3SuWkvkwr/Khq/tf/tQ/Gb4FeJPFegfs8%2BHPB0Vn8NvhTffErxpba/pU8r6zCbm5ZdPs2t7iFbSec2d%2B73cqzqrmImF97MPTPjp%2By1B%2B0Frlsnjb43%2BNbfwks1jNqfw90w6ZHpWqyWtytzGZ5WsmvgGkSPekV1GjrGFK4Zw%2BD8dP2EfBX7QbRTeNvjB44tprvwvd%2BGPF8%2BkXGnQN4r0K5mEsmmXw%2BxFVi%2B%2BiyWwt50SaULKPMckA9q0nU7XW9KtdZsWYwXduk0JZcEo6hhkduDVimxxxwxrDDGqIigKqjAAHQAU6gAr59/bN%2BKv7U3wh8UeBD8DvHPgAw%2BNfHei%2BGLDwr4j8BX17e3Mk07zahcJewatbpGsGmQXl0ENs5zaEFiH%2BX6CrjfF3wQ8KeNvjL4O%2BNmv6hqEl/4Gs9Ui0PTFljFkJ75IYnvHQoXM8cMUsMbBwqpeXAKsWUoAeK/tbftK/Ez9nD43eFPCXh7V/D3gf4b3vh7U9Y8W%2BN9a%2BEWs69YWd6L%2B1AinutOu7a30pZUuLuZ7q7JTMZYn72fpyvIPjp%2ByTdftCeCZfhj48/aW%2BIcXhjVNHuNJ8XaDpi6LDF4kspy4mhuZf7NM8IaJ2gLWklu3lnrv%2BevXo40iRYokCqoAVVGAB6UALVHxMniSXw3qEfg25sYNYaxlGlTanA8ttHc7D5TSojIzxh9pZVZSRkBgeavVV13T7vV9EvNK0/XbrS57q1kig1OwSJp7R2UgTRiaOSMuhIYCRHTIG5WGQQD5C%2BHP7X/7ZHxe8LeA/hf4Kn%2BGtv8AEzX3%2BI1zrGuah4X1BtEktPC3iFNFCQ2S6iJ4ZLmW7sW3NcyiJfPbbJ8q13mqftcalqX7D3wz/aK%2BBng3StL1f4xnwo/hmw1m2aWz0248RT20j3FykLxNOIVu5p3RXjaZ49u%2BMyF1yvC3/BL/AELwl4Ps/D2mftg/GD%2B1dN1bxBd6Z4uWTw9DqdpBrly13q1iph0dITb3N0y3B3RNLFJDEYZIhGoHpXi/9kL4eeKPg5afAbTfEmu6D4a0Ow0GHwZZ6G9rG/hifR51nsbuzkkt3Yyq8VuGW4M0LLbKpi2vMJQB/wCyb8YvHXxa8HeItN%2BKkGk/8JR4K8bal4Z1270C0lt7G%2BktnV4rqCGWWV4Vlt5oHaJpZDG7OnmOFDn1OuK%2BAvwN8O/s/wDgaXwdofiHV9bub7WL3V9c8Q6/LC99q2oXczTT3M5giiiDFm2qkUccaIiIiKqKB2tAFHxMniSXw3qEfg25sYNYaxlGlTanA8ttHc7D5TSojIzxh9pZVZSRkBgea%2BVbH9qT9rDUP2Grr9pvVvif8JPDmpeDtR8ZW3jK%2B1XwNqU2nam2j61e6dapaQJqqy2hnFoM7pbpt8qqkbkgV9Xa7p93q%2BiXmlafrt1pc91ayRQanYJE09o7KQJoxNHJGXQkMBIjpkDcrDIPy5Zf8Eq7Gz8KeGfBz/tyfGm4s/CfjzU/GOlx3Vv4TkR9Wvbma7eaaE6D5M4iuri4uIQ8Z8mWUOmDFD5QB2/7QPxm%2BNfwv/YstPjL8IfhEul%2BMr%2B68OzX/hiTwhe682kHU9Wso9UkfT9NeK5vZLaG6u52WJlZ3hLHqQe3/Zi%2BKQ%2BMXwZ03xrN8SdG8V3bXN3balquh%2BFLzQoluYbmSJ7d9OvZ57mymhK%2BVJFNIXEkbkqmQi2/E3ws8a6/4YuNA079o7xpo13Np9hbxa3plnopureW3dmluUWfTpITJchgsqvE0QCL5McB3Fm/AT4FeG/2ffBNx4Q0HxBq%2BtXGo61eaxrmv6/PE97quoXUxlnuZvJjiiUkkAJFHHGiqqqihQKAO2qj4mTxJL4b1CPwbc2MGsNYyjSptTgeW2judh8ppURkZ4w%2B0sqspIyAwPNXqq67p93q%2BiXmlafrt1pc91ayRQanYJE09o7KQJoxNHJGXQkMBIjpkDcrDIIB8U3v7df7W9r8Efh7411i88K6ZLf%2BL/HGj/EbxrpXwT8Q%2BItL02LQ9VvbC3uRYafqHn2UcwtQzyz3EkcZ3ZYDp73%2B0D8bdT%2BGHwO0fx38FH8Map4g%2BIPifw9pOh649o0ml3Nxqdxa2i6nKkMyvcQx2581UWYNIsMcQlQMJF5nwD/wT98R/DX4Vz/CHwr%2B3r8aYdMu9a1jUry4%2Bz%2BFFuZn1O6lu7uPeuhDYrXE88qsgWSMzMFdVVFXs/FP7H3w78RfBex%2BAOmeJ9f0PwzoGnaBb%2BC7XRprZZPDM%2BjTJNY3lpLLBI7zK8VtuW4M8Lrbqpj2vMJQCX9k34xeOvi14O8Rab8VINJ/4SjwV421Lwzrt3oFpLb2N9JbOrxXUEMssrwrLbzQO0TSyGN2dPMcKHPqdcV8Bfgb4d/Z/wDA0vg7Q/EOr63c32sXur654h1%2BWF77VtQu5mmnuZzBFFEGLNtVIo440REREVUUDtaACvmX4Y/Gz9rPxf4B%2BL9n45%2BLXwq8N698KfiTLpl54pPw81G40ltHTQdN1R2e0OsRyiZDfspm%2B0BCsGfJUt8v01Xzpp3/AATn0KTwZ8Xfh946/ai%2BJ/irR/jXdm48Z2esDQYPme1tbKdYGsdKt2RJrKzhtXVi48vcV2yMZCAReAPjh%2B0wf%2BCYOoftZaj8MtBuvi7qXwqv/GNn4a0LwxdRQ3%2Bpf2fJcadayWYuZbh5jElnBJGJ2curIjgbAO0/Y7%2BNmsfGnwJq134t%2BKOjeI9e0jWzaatbab8NdV8Iz6Qxt4ZUtrrTdWuri6jlKyeaJGKLJHLGVTA3v3vi7wVrHiO1ms9B%2BJeueG0k0W5sYRocFifs8shj8u8T7TbTfvoQjCNWzCRK/mRSYQpzfwH/AGdtJ%2BB154l8R3PxE8SeMfEni/UYbzxF4p8VvZi7ujDbpbwRCOxtra2iijjQBVjhTJZ2YszMxAPQ6KKKACiiigAooooAKKKKACiiigAooooAKKKKACiiigAooooAKKKKACiiigAooooAKKKKACiiigAooooAKKKKACiiigAooooAKKKKACiiigAooooAKKKKACiiigAooooAKKKKACiiigAooooAKKKKACiiigAooooAKKKKACiiigAooooAKKKKACiiigAooooAKKKKACiiigAooooAKKKKACiiigAooooAKKKKACiiigAooooAKKKKACiiigAooooAKKKKACiiigAooooAKKKKACiiigAooooAKKKKACiiigAooooAKKKKACiiigAooooA/9k%3D\">"
      ]
     },
     "metadata": {},
     "output_type": "display_data"
    },
    {
     "name": "stdout",
     "output_type": "stream",
     "text": [
      "19\n"
     ]
    },
    {
     "ename": "KeyboardInterrupt",
     "evalue": "",
     "output_type": "error",
     "traceback": [
      "\u001b[0;31m---------------------------------------------------------------------------\u001b[0m",
      "\u001b[0;31mKeyboardInterrupt\u001b[0m                         Traceback (most recent call last)",
      "\u001b[0;32m<ipython-input-64-1118818b2162>\u001b[0m in \u001b[0;36m<module>\u001b[0;34m()\u001b[0m\n\u001b[1;32m     18\u001b[0m     \u001b[0mtrain_loss\u001b[0m \u001b[0;34m=\u001b[0m \u001b[0mnp\u001b[0m\u001b[0;34m.\u001b[0m\u001b[0mmean\u001b[0m\u001b[0;34m(\u001b[0m\u001b[0mbatch_losses\u001b[0m\u001b[0;34m)\u001b[0m\u001b[0;34m\u001b[0m\u001b[0m\n\u001b[1;32m     19\u001b[0m     \u001b[0mval_loss\u001b[0m \u001b[0;34m=\u001b[0m \u001b[0ms\u001b[0m\u001b[0;34m.\u001b[0m\u001b[0mrun\u001b[0m\u001b[0;34m(\u001b[0m\u001b[0mloss\u001b[0m\u001b[0;34m,\u001b[0m \u001b[0;34m{\u001b[0m\u001b[0minput_X\u001b[0m\u001b[0;34m:\u001b[0m \u001b[0mX_val_flat\u001b[0m\u001b[0;34m,\u001b[0m \u001b[0minput_y\u001b[0m\u001b[0;34m:\u001b[0m \u001b[0my_val_oh\u001b[0m\u001b[0;34m}\u001b[0m\u001b[0;34m)\u001b[0m  \u001b[0;31m# this part is usually small\u001b[0m\u001b[0;34m\u001b[0m\u001b[0m\n\u001b[0;32m---> 20\u001b[0;31m     \u001b[0mtrain_accuracy\u001b[0m \u001b[0;34m=\u001b[0m \u001b[0maccuracy_score\u001b[0m\u001b[0;34m(\u001b[0m\u001b[0my_train\u001b[0m\u001b[0;34m,\u001b[0m \u001b[0ms\u001b[0m\u001b[0;34m.\u001b[0m\u001b[0mrun\u001b[0m\u001b[0;34m(\u001b[0m\u001b[0mclasses\u001b[0m\u001b[0;34m,\u001b[0m \u001b[0;34m{\u001b[0m\u001b[0minput_X\u001b[0m\u001b[0;34m:\u001b[0m \u001b[0mX_train_flat\u001b[0m\u001b[0;34m}\u001b[0m\u001b[0;34m)\u001b[0m\u001b[0;34m)\u001b[0m  \u001b[0;31m# this is slow and usually skipped\u001b[0m\u001b[0;34m\u001b[0m\u001b[0m\n\u001b[0m\u001b[1;32m     21\u001b[0m     \u001b[0mvalid_accuracy\u001b[0m \u001b[0;34m=\u001b[0m \u001b[0maccuracy_score\u001b[0m\u001b[0;34m(\u001b[0m\u001b[0my_val\u001b[0m\u001b[0;34m,\u001b[0m \u001b[0ms\u001b[0m\u001b[0;34m.\u001b[0m\u001b[0mrun\u001b[0m\u001b[0;34m(\u001b[0m\u001b[0mclasses\u001b[0m\u001b[0;34m,\u001b[0m \u001b[0;34m{\u001b[0m\u001b[0minput_X\u001b[0m\u001b[0;34m:\u001b[0m \u001b[0mX_val_flat\u001b[0m\u001b[0;34m}\u001b[0m\u001b[0;34m)\u001b[0m\u001b[0;34m)\u001b[0m\u001b[0;34m\u001b[0m\u001b[0m\n\u001b[1;32m     22\u001b[0m     \u001b[0msimpleTrainingCurves\u001b[0m\u001b[0;34m.\u001b[0m\u001b[0madd\u001b[0m\u001b[0;34m(\u001b[0m\u001b[0mtrain_loss\u001b[0m\u001b[0;34m,\u001b[0m \u001b[0mval_loss\u001b[0m\u001b[0;34m,\u001b[0m \u001b[0mtrain_accuracy\u001b[0m\u001b[0;34m,\u001b[0m \u001b[0mvalid_accuracy\u001b[0m\u001b[0;34m)\u001b[0m\u001b[0;34m\u001b[0m\u001b[0m\n",
      "\u001b[0;32m/opt/conda/lib/python3.6/site-packages/tensorflow/python/client/session.py\u001b[0m in \u001b[0;36mrun\u001b[0;34m(self, fetches, feed_dict, options, run_metadata)\u001b[0m\n\u001b[1;32m    787\u001b[0m     \u001b[0;32mtry\u001b[0m\u001b[0;34m:\u001b[0m\u001b[0;34m\u001b[0m\u001b[0m\n\u001b[1;32m    788\u001b[0m       result = self._run(None, fetches, feed_dict, options_ptr,\n\u001b[0;32m--> 789\u001b[0;31m                          run_metadata_ptr)\n\u001b[0m\u001b[1;32m    790\u001b[0m       \u001b[0;32mif\u001b[0m \u001b[0mrun_metadata\u001b[0m\u001b[0;34m:\u001b[0m\u001b[0;34m\u001b[0m\u001b[0m\n\u001b[1;32m    791\u001b[0m         \u001b[0mproto_data\u001b[0m \u001b[0;34m=\u001b[0m \u001b[0mtf_session\u001b[0m\u001b[0;34m.\u001b[0m\u001b[0mTF_GetBuffer\u001b[0m\u001b[0;34m(\u001b[0m\u001b[0mrun_metadata_ptr\u001b[0m\u001b[0;34m)\u001b[0m\u001b[0;34m\u001b[0m\u001b[0m\n",
      "\u001b[0;32m/opt/conda/lib/python3.6/site-packages/tensorflow/python/client/session.py\u001b[0m in \u001b[0;36m_run\u001b[0;34m(self, handle, fetches, feed_dict, options, run_metadata)\u001b[0m\n\u001b[1;32m    995\u001b[0m     \u001b[0;32mif\u001b[0m \u001b[0mfinal_fetches\u001b[0m \u001b[0;32mor\u001b[0m \u001b[0mfinal_targets\u001b[0m\u001b[0;34m:\u001b[0m\u001b[0;34m\u001b[0m\u001b[0m\n\u001b[1;32m    996\u001b[0m       results = self._do_run(handle, final_targets, final_fetches,\n\u001b[0;32m--> 997\u001b[0;31m                              feed_dict_string, options, run_metadata)\n\u001b[0m\u001b[1;32m    998\u001b[0m     \u001b[0;32melse\u001b[0m\u001b[0;34m:\u001b[0m\u001b[0;34m\u001b[0m\u001b[0m\n\u001b[1;32m    999\u001b[0m       \u001b[0mresults\u001b[0m \u001b[0;34m=\u001b[0m \u001b[0;34m[\u001b[0m\u001b[0;34m]\u001b[0m\u001b[0;34m\u001b[0m\u001b[0m\n",
      "\u001b[0;32m/opt/conda/lib/python3.6/site-packages/tensorflow/python/client/session.py\u001b[0m in \u001b[0;36m_do_run\u001b[0;34m(self, handle, target_list, fetch_list, feed_dict, options, run_metadata)\u001b[0m\n\u001b[1;32m   1130\u001b[0m     \u001b[0;32mif\u001b[0m \u001b[0mhandle\u001b[0m \u001b[0;32mis\u001b[0m \u001b[0;32mNone\u001b[0m\u001b[0;34m:\u001b[0m\u001b[0;34m\u001b[0m\u001b[0m\n\u001b[1;32m   1131\u001b[0m       return self._do_call(_run_fn, self._session, feed_dict, fetch_list,\n\u001b[0;32m-> 1132\u001b[0;31m                            target_list, options, run_metadata)\n\u001b[0m\u001b[1;32m   1133\u001b[0m     \u001b[0;32melse\u001b[0m\u001b[0;34m:\u001b[0m\u001b[0;34m\u001b[0m\u001b[0m\n\u001b[1;32m   1134\u001b[0m       return self._do_call(_prun_fn, self._session, handle, feed_dict,\n",
      "\u001b[0;32m/opt/conda/lib/python3.6/site-packages/tensorflow/python/client/session.py\u001b[0m in \u001b[0;36m_do_call\u001b[0;34m(self, fn, *args)\u001b[0m\n\u001b[1;32m   1137\u001b[0m   \u001b[0;32mdef\u001b[0m \u001b[0m_do_call\u001b[0m\u001b[0;34m(\u001b[0m\u001b[0mself\u001b[0m\u001b[0;34m,\u001b[0m \u001b[0mfn\u001b[0m\u001b[0;34m,\u001b[0m \u001b[0;34m*\u001b[0m\u001b[0margs\u001b[0m\u001b[0;34m)\u001b[0m\u001b[0;34m:\u001b[0m\u001b[0;34m\u001b[0m\u001b[0m\n\u001b[1;32m   1138\u001b[0m     \u001b[0;32mtry\u001b[0m\u001b[0;34m:\u001b[0m\u001b[0;34m\u001b[0m\u001b[0m\n\u001b[0;32m-> 1139\u001b[0;31m       \u001b[0;32mreturn\u001b[0m \u001b[0mfn\u001b[0m\u001b[0;34m(\u001b[0m\u001b[0;34m*\u001b[0m\u001b[0margs\u001b[0m\u001b[0;34m)\u001b[0m\u001b[0;34m\u001b[0m\u001b[0m\n\u001b[0m\u001b[1;32m   1140\u001b[0m     \u001b[0;32mexcept\u001b[0m \u001b[0merrors\u001b[0m\u001b[0;34m.\u001b[0m\u001b[0mOpError\u001b[0m \u001b[0;32mas\u001b[0m \u001b[0me\u001b[0m\u001b[0;34m:\u001b[0m\u001b[0;34m\u001b[0m\u001b[0m\n\u001b[1;32m   1141\u001b[0m       \u001b[0mmessage\u001b[0m \u001b[0;34m=\u001b[0m \u001b[0mcompat\u001b[0m\u001b[0;34m.\u001b[0m\u001b[0mas_text\u001b[0m\u001b[0;34m(\u001b[0m\u001b[0me\u001b[0m\u001b[0;34m.\u001b[0m\u001b[0mmessage\u001b[0m\u001b[0;34m)\u001b[0m\u001b[0;34m\u001b[0m\u001b[0m\n",
      "\u001b[0;32m/opt/conda/lib/python3.6/site-packages/tensorflow/python/client/session.py\u001b[0m in \u001b[0;36m_run_fn\u001b[0;34m(session, feed_dict, fetch_list, target_list, options, run_metadata)\u001b[0m\n\u001b[1;32m   1119\u001b[0m         return tf_session.TF_Run(session, options,\n\u001b[1;32m   1120\u001b[0m                                  \u001b[0mfeed_dict\u001b[0m\u001b[0;34m,\u001b[0m \u001b[0mfetch_list\u001b[0m\u001b[0;34m,\u001b[0m \u001b[0mtarget_list\u001b[0m\u001b[0;34m,\u001b[0m\u001b[0;34m\u001b[0m\u001b[0m\n\u001b[0;32m-> 1121\u001b[0;31m                                  status, run_metadata)\n\u001b[0m\u001b[1;32m   1122\u001b[0m \u001b[0;34m\u001b[0m\u001b[0m\n\u001b[1;32m   1123\u001b[0m     \u001b[0;32mdef\u001b[0m \u001b[0m_prun_fn\u001b[0m\u001b[0;34m(\u001b[0m\u001b[0msession\u001b[0m\u001b[0;34m,\u001b[0m \u001b[0mhandle\u001b[0m\u001b[0;34m,\u001b[0m \u001b[0mfeed_dict\u001b[0m\u001b[0;34m,\u001b[0m \u001b[0mfetch_list\u001b[0m\u001b[0;34m)\u001b[0m\u001b[0;34m:\u001b[0m\u001b[0;34m\u001b[0m\u001b[0m\n",
      "\u001b[0;31mKeyboardInterrupt\u001b[0m: "
     ]
    }
   ],
   "source": [
    "s.run(tf.global_variables_initializer())\n",
    "\n",
    "BATCH_SIZE = 512\n",
    "EPOCHS = 1000 # I set the epochs to 1000 and stopped at around 400 to match the requirement. Originally, it was 40 here but the accuracy was only about 87% after 40 epochs.\n",
    "\n",
    "# for logging the progress right here in Jupyter (for those who don't have TensorBoard)\n",
    "simpleTrainingCurves = matplotlib_utils.SimpleTrainingCurves(\"cross-entropy\", \"accuracy\")\n",
    "\n",
    "for epoch in range(EPOCHS):  # we finish an epoch when we've looked at all training samples\n",
    "    \n",
    "    batch_losses = []\n",
    "    for batch_start in range(0, X_train_flat.shape[0], BATCH_SIZE):  # data is already shuffled\n",
    "        _, batch_loss = s.run([step, loss], {input_X: X_train_flat[batch_start:batch_start+BATCH_SIZE], \n",
    "                                             input_y: y_train_oh[batch_start:batch_start+BATCH_SIZE]})\n",
    "        # collect batch losses, this is almost free as we need a forward pass for backprop anyway\n",
    "        batch_losses.append(batch_loss)\n",
    "\n",
    "    train_loss = np.mean(batch_losses)\n",
    "    val_loss = s.run(loss, {input_X: X_val_flat, input_y: y_val_oh})  # this part is usually small\n",
    "    train_accuracy = accuracy_score(y_train, s.run(classes, {input_X: X_train_flat}))  # this is slow and usually skipped\n",
    "    valid_accuracy = accuracy_score(y_val, s.run(classes, {input_X: X_val_flat}))  \n",
    "    simpleTrainingCurves.add(train_loss, val_loss, train_accuracy, valid_accuracy)\n",
    "    print(epoch)"
   ]
  },
  {
   "cell_type": "markdown",
   "metadata": {},
   "source": [
    "# Submit a linear model"
   ]
  },
  {
   "cell_type": "code",
   "execution_count": 50,
   "metadata": {
    "collapsed": true
   },
   "outputs": [],
   "source": [
    "## GRADED PART, DO NOT CHANGE!\n",
    "# Testing shapes \n",
    "grader.set_answer(\"9XaAS\", grading_utils.get_tensors_shapes_string([W, b, input_X, input_y, logits, probas, classes]))\n",
    "# Validation loss\n",
    "grader.set_answer(\"vmogZ\", s.run(loss, {input_X: X_val_flat, input_y: y_val_oh}))\n",
    "# Validation accuracy\n",
    "grader.set_answer(\"RMv95\", accuracy_score(y_val, s.run(classes, {input_X: X_val_flat})))"
   ]
  },
  {
   "cell_type": "code",
   "execution_count": 51,
   "metadata": {},
   "outputs": [
    {
     "name": "stdout",
     "output_type": "stream",
     "text": [
      "Submitted to Coursera platform. See results on assignment page!\n"
     ]
    }
   ],
   "source": [
    "# you can make submission with answers so far to check yourself at this stage\n",
    "grader.submit(COURSERA_EMAIL, COURSERA_TOKEN)"
   ]
  },
  {
   "cell_type": "markdown",
   "metadata": {},
   "source": [
    "# Adding more layers"
   ]
  },
  {
   "cell_type": "markdown",
   "metadata": {},
   "source": [
    "Let's add a couple of hidden layers and see how that improves our validation accuracy.\n",
    "\n",
    "Previously we've coded a dense layer with matrix multiplication by hand. \n",
    "But this is not convinient, you have to create a lot of variables and your code becomes a mess. \n",
    "In TensorFlow there's an easier way to make a dense layer:\n",
    "```python\n",
    "hidden1 = tf.layers.dense(inputs, 256, activation=tf.nn.sigmoid)\n",
    "```\n",
    "\n",
    "That will create all the necessary variables automatically.\n",
    "Here you can also choose an activation function (rememeber that we need it for a hidden layer!).\n",
    "\n",
    "Now add 2 hidden layers to the code above and restart training.\n",
    "You're aiming for ~0.97 validation accuracy here."
   ]
  },
  {
   "cell_type": "code",
   "execution_count": 63,
   "metadata": {
    "collapsed": true
   },
   "outputs": [],
   "source": [
    "# you can write the code here to get a new `step` operation and then run cells with training loop above\n",
    "# name your variables in the same way (e.g. logits, probas, classes, etc) for safety\n",
    "### YOUR CODE HERE ###\n",
    "hidden1 = tf.layers.dense(input_X, 100, tf.nn.relu)\n",
    "hidden2 = tf.layers.dense(hidden1, 20, tf.nn.relu)\n",
    "logits = tf.layers.dense(hidden2, 10)\n",
    "\n",
    "probas = tf.nn.softmax(logits)\n",
    "classes = tf.argmax(probas, axis=-1)\n",
    "\n",
    "loss = tf.reduce_mean(tf.nn.softmax_cross_entropy_with_logits(labels=input_y, logits=logits))\n",
    "step = tf.train.AdamOptimizer().minimize(loss)"
   ]
  },
  {
   "cell_type": "markdown",
   "metadata": {},
   "source": [
    "# Submit a 2-layer MLP\n",
    "Run these cells after training a 2-layer MLP"
   ]
  },
  {
   "cell_type": "code",
   "execution_count": 65,
   "metadata": {
    "collapsed": true
   },
   "outputs": [],
   "source": [
    "## GRADED PART, DO NOT CHANGE!\n",
    "# Validation loss for MLP\n",
    "grader.set_answer(\"i8bgs\", s.run(loss, {input_X: X_val_flat, input_y: y_val_oh}))\n",
    "# Validation accuracy for MLP\n",
    "grader.set_answer(\"rE763\", accuracy_score(y_val, s.run(classes, {input_X: X_val_flat})))"
   ]
  },
  {
   "cell_type": "code",
   "execution_count": 66,
   "metadata": {},
   "outputs": [
    {
     "name": "stdout",
     "output_type": "stream",
     "text": [
      "Submitted to Coursera platform. See results on assignment page!\n"
     ]
    }
   ],
   "source": [
    "# you can make submission with answers so far to check yourself at this stage\n",
    "grader.submit(COURSERA_EMAIL, COURSERA_TOKEN)"
   ]
  },
  {
   "cell_type": "code",
   "execution_count": null,
   "metadata": {
    "collapsed": true
   },
   "outputs": [],
   "source": []
  }
 ],
 "metadata": {
  "kernelspec": {
   "display_name": "Python 3",
   "language": "python",
   "name": "python3"
  },
  "language_info": {
   "codemirror_mode": {
    "name": "ipython",
    "version": 3
   },
   "file_extension": ".py",
   "mimetype": "text/x-python",
   "name": "python",
   "nbconvert_exporter": "python",
   "pygments_lexer": "ipython3",
   "version": "3.6.0"
  }
 },
 "nbformat": 4,
 "nbformat_minor": 1
}
